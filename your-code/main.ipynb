{
 "cells": [
  {
   "cell_type": "markdown",
   "metadata": {},
   "source": [
    "# Before your start:\n",
    "- Read the README.md file\n",
    "- Comment as much as you can and use the resources in the README.md file\n",
    "- Happy learning!"
   ]
  },
  {
   "cell_type": "code",
   "execution_count": 34,
   "metadata": {},
   "outputs": [],
   "source": [
    "# Import your libraries:\n",
    "\n",
    "%matplotlib inline\n",
    "\n",
    "import numpy as np\n",
    "import pandas as pd\n",
    "import seaborn as sns"
   ]
  },
  {
   "cell_type": "markdown",
   "metadata": {},
   "source": [
    "In this lab, we will explore a dataset that describes websites with different features and labels them either benign or malicious . We will use supervised learning algorithms to figure out what feature patterns malicious websites are likely to have and use our model to predict malicious websites.\n",
    "\n",
    "# Challenge 1 - Explore The Dataset\n",
    "\n",
    "Let's start by exploring the dataset. First load the data file:"
   ]
  },
  {
   "cell_type": "code",
   "execution_count": 51,
   "metadata": {},
   "outputs": [],
   "source": [
    "websites = pd.read_csv('../website.csv')"
   ]
  },
  {
   "cell_type": "markdown",
   "metadata": {},
   "source": [
    "#### Explore the data from an bird's-eye view.\n",
    "\n",
    "You should already been very familiar with the procedures now so we won't provide the instructions step by step. Reflect on what you did in the previous labs and explore the dataset.\n",
    "\n",
    "Things you'll be looking for:\n",
    "\n",
    "* What the dataset looks like?\n",
    "* What are the data types?\n",
    "* Which columns contain the features of the websites?\n",
    "* Which column contains the feature we will predict? What is the code standing for benign vs malicious websites?\n",
    "* Do we need to transform any of the columns from categorical to ordinal values? If so what are these columns?\n",
    "\n",
    "Feel free to add additional cells for your explorations. Make sure to comment what you find out."
   ]
  },
  {
   "cell_type": "code",
   "execution_count": 32,
   "metadata": {},
   "outputs": [
    {
     "data": {
      "text/html": [
       "<div>\n",
       "<style scoped>\n",
       "    .dataframe tbody tr th:only-of-type {\n",
       "        vertical-align: middle;\n",
       "    }\n",
       "\n",
       "    .dataframe tbody tr th {\n",
       "        vertical-align: top;\n",
       "    }\n",
       "\n",
       "    .dataframe thead th {\n",
       "        text-align: right;\n",
       "    }\n",
       "</style>\n",
       "<table border=\"1\" class=\"dataframe\">\n",
       "  <thead>\n",
       "    <tr style=\"text-align: right;\">\n",
       "      <th></th>\n",
       "      <th>URL</th>\n",
       "      <th>URL_LENGTH</th>\n",
       "      <th>NUMBER_SPECIAL_CHARACTERS</th>\n",
       "      <th>CHARSET</th>\n",
       "      <th>SERVER</th>\n",
       "      <th>CONTENT_LENGTH</th>\n",
       "      <th>WHOIS_COUNTRY</th>\n",
       "      <th>WHOIS_STATEPRO</th>\n",
       "      <th>WHOIS_REGDATE</th>\n",
       "      <th>WHOIS_UPDATED_DATE</th>\n",
       "      <th>...</th>\n",
       "      <th>DIST_REMOTE_TCP_PORT</th>\n",
       "      <th>REMOTE_IPS</th>\n",
       "      <th>APP_BYTES</th>\n",
       "      <th>SOURCE_APP_PACKETS</th>\n",
       "      <th>REMOTE_APP_PACKETS</th>\n",
       "      <th>SOURCE_APP_BYTES</th>\n",
       "      <th>REMOTE_APP_BYTES</th>\n",
       "      <th>APP_PACKETS</th>\n",
       "      <th>DNS_QUERY_TIMES</th>\n",
       "      <th>Type</th>\n",
       "    </tr>\n",
       "  </thead>\n",
       "  <tbody>\n",
       "    <tr>\n",
       "      <th>983</th>\n",
       "      <td>B0_909</td>\n",
       "      <td>52</td>\n",
       "      <td>10</td>\n",
       "      <td>UTF-8</td>\n",
       "      <td>nginx</td>\n",
       "      <td>NaN</td>\n",
       "      <td>CA</td>\n",
       "      <td>Manitoba</td>\n",
       "      <td>30/09/2002 0:00</td>\n",
       "      <td>24/09/2016 0:00</td>\n",
       "      <td>...</td>\n",
       "      <td>0</td>\n",
       "      <td>0</td>\n",
       "      <td>0</td>\n",
       "      <td>0</td>\n",
       "      <td>0</td>\n",
       "      <td>0</td>\n",
       "      <td>0</td>\n",
       "      <td>0</td>\n",
       "      <td>0.0</td>\n",
       "      <td>0</td>\n",
       "    </tr>\n",
       "    <tr>\n",
       "      <th>399</th>\n",
       "      <td>B0_295</td>\n",
       "      <td>38</td>\n",
       "      <td>9</td>\n",
       "      <td>utf-8</td>\n",
       "      <td>ATS</td>\n",
       "      <td>618.0</td>\n",
       "      <td>US</td>\n",
       "      <td>CA</td>\n",
       "      <td>18/01/1995 0:00</td>\n",
       "      <td>26/08/2015 0:00</td>\n",
       "      <td>...</td>\n",
       "      <td>17</td>\n",
       "      <td>7</td>\n",
       "      <td>5306</td>\n",
       "      <td>54</td>\n",
       "      <td>42</td>\n",
       "      <td>39325</td>\n",
       "      <td>5906</td>\n",
       "      <td>54</td>\n",
       "      <td>8.0</td>\n",
       "      <td>0</td>\n",
       "    </tr>\n",
       "    <tr>\n",
       "      <th>1426</th>\n",
       "      <td>B0_2235</td>\n",
       "      <td>73</td>\n",
       "      <td>11</td>\n",
       "      <td>UTF-8</td>\n",
       "      <td>Apache/2.4.18 (Ubuntu)</td>\n",
       "      <td>12487.0</td>\n",
       "      <td>US</td>\n",
       "      <td>Illinois</td>\n",
       "      <td>2/08/2000 0:00</td>\n",
       "      <td>26/04/2017 0:00</td>\n",
       "      <td>...</td>\n",
       "      <td>11</td>\n",
       "      <td>12</td>\n",
       "      <td>1524</td>\n",
       "      <td>22</td>\n",
       "      <td>19</td>\n",
       "      <td>1268</td>\n",
       "      <td>1524</td>\n",
       "      <td>22</td>\n",
       "      <td>0.0</td>\n",
       "      <td>0</td>\n",
       "    </tr>\n",
       "    <tr>\n",
       "      <th>1409</th>\n",
       "      <td>B0_244</td>\n",
       "      <td>72</td>\n",
       "      <td>9</td>\n",
       "      <td>ISO-8859-1</td>\n",
       "      <td>Apache/2.2.26 (Unix) mod_ssl/2.2.26 OpenSSL/0....</td>\n",
       "      <td>2819.0</td>\n",
       "      <td>BE</td>\n",
       "      <td>ANTWERP</td>\n",
       "      <td>13/10/2000 0:00</td>\n",
       "      <td>1/11/2012 0:00</td>\n",
       "      <td>...</td>\n",
       "      <td>2</td>\n",
       "      <td>13</td>\n",
       "      <td>3042</td>\n",
       "      <td>45</td>\n",
       "      <td>26</td>\n",
       "      <td>5914</td>\n",
       "      <td>3520</td>\n",
       "      <td>45</td>\n",
       "      <td>6.0</td>\n",
       "      <td>0</td>\n",
       "    </tr>\n",
       "    <tr>\n",
       "      <th>850</th>\n",
       "      <td>B0_694</td>\n",
       "      <td>48</td>\n",
       "      <td>10</td>\n",
       "      <td>UTF-8</td>\n",
       "      <td>Apache</td>\n",
       "      <td>58.0</td>\n",
       "      <td>US</td>\n",
       "      <td>CO</td>\n",
       "      <td>22/06/2014 0:00</td>\n",
       "      <td>22/06/2016 0:00</td>\n",
       "      <td>...</td>\n",
       "      <td>6</td>\n",
       "      <td>12</td>\n",
       "      <td>2634</td>\n",
       "      <td>28</td>\n",
       "      <td>26</td>\n",
       "      <td>4384</td>\n",
       "      <td>2932</td>\n",
       "      <td>28</td>\n",
       "      <td>4.0</td>\n",
       "      <td>0</td>\n",
       "    </tr>\n",
       "    <tr>\n",
       "      <th>254</th>\n",
       "      <td>B0_1342</td>\n",
       "      <td>34</td>\n",
       "      <td>7</td>\n",
       "      <td>ISO-8859-1</td>\n",
       "      <td>Apache/2.2.31 (CentOS)</td>\n",
       "      <td>NaN</td>\n",
       "      <td>CA</td>\n",
       "      <td>ALBERTA</td>\n",
       "      <td>10/04/2010 0:00</td>\n",
       "      <td>10/04/2017 0:00</td>\n",
       "      <td>...</td>\n",
       "      <td>0</td>\n",
       "      <td>0</td>\n",
       "      <td>0</td>\n",
       "      <td>0</td>\n",
       "      <td>0</td>\n",
       "      <td>0</td>\n",
       "      <td>0</td>\n",
       "      <td>0</td>\n",
       "      <td>0.0</td>\n",
       "      <td>0</td>\n",
       "    </tr>\n",
       "    <tr>\n",
       "      <th>1389</th>\n",
       "      <td>B0_207</td>\n",
       "      <td>71</td>\n",
       "      <td>12</td>\n",
       "      <td>UTF-8</td>\n",
       "      <td>Apache</td>\n",
       "      <td>13522.0</td>\n",
       "      <td>US</td>\n",
       "      <td>CA</td>\n",
       "      <td>18/01/1996 5:00</td>\n",
       "      <td>20/01/2017 1:26</td>\n",
       "      <td>...</td>\n",
       "      <td>20</td>\n",
       "      <td>10</td>\n",
       "      <td>3317</td>\n",
       "      <td>36</td>\n",
       "      <td>35</td>\n",
       "      <td>8700</td>\n",
       "      <td>3747</td>\n",
       "      <td>36</td>\n",
       "      <td>6.0</td>\n",
       "      <td>0</td>\n",
       "    </tr>\n",
       "    <tr>\n",
       "      <th>1161</th>\n",
       "      <td>B0_1399</td>\n",
       "      <td>59</td>\n",
       "      <td>9</td>\n",
       "      <td>ISO-8859-1</td>\n",
       "      <td>None</td>\n",
       "      <td>NaN</td>\n",
       "      <td>US</td>\n",
       "      <td>CA</td>\n",
       "      <td>29/03/1997 0:00</td>\n",
       "      <td>29/11/2016 0:00</td>\n",
       "      <td>...</td>\n",
       "      <td>0</td>\n",
       "      <td>0</td>\n",
       "      <td>0</td>\n",
       "      <td>0</td>\n",
       "      <td>0</td>\n",
       "      <td>0</td>\n",
       "      <td>0</td>\n",
       "      <td>0</td>\n",
       "      <td>0.0</td>\n",
       "      <td>0</td>\n",
       "    </tr>\n",
       "    <tr>\n",
       "      <th>1070</th>\n",
       "      <td>B0_1179</td>\n",
       "      <td>56</td>\n",
       "      <td>12</td>\n",
       "      <td>ISO-8859-1</td>\n",
       "      <td>None</td>\n",
       "      <td>1819.0</td>\n",
       "      <td>US</td>\n",
       "      <td>CA</td>\n",
       "      <td>2/11/2002 0:00</td>\n",
       "      <td>2/02/2017 0:00</td>\n",
       "      <td>...</td>\n",
       "      <td>0</td>\n",
       "      <td>0</td>\n",
       "      <td>0</td>\n",
       "      <td>0</td>\n",
       "      <td>0</td>\n",
       "      <td>0</td>\n",
       "      <td>0</td>\n",
       "      <td>0</td>\n",
       "      <td>0.0</td>\n",
       "      <td>0</td>\n",
       "    </tr>\n",
       "    <tr>\n",
       "      <th>740</th>\n",
       "      <td>B0_1201</td>\n",
       "      <td>46</td>\n",
       "      <td>9</td>\n",
       "      <td>iso-8859-1</td>\n",
       "      <td>Apache/2.4.25 (Amazon) OpenSSL/1.0.1k-fips</td>\n",
       "      <td>231.0</td>\n",
       "      <td>None</td>\n",
       "      <td>None</td>\n",
       "      <td>22/09/2009 0:00</td>\n",
       "      <td>23/04/2015 0:00</td>\n",
       "      <td>...</td>\n",
       "      <td>0</td>\n",
       "      <td>0</td>\n",
       "      <td>0</td>\n",
       "      <td>0</td>\n",
       "      <td>0</td>\n",
       "      <td>0</td>\n",
       "      <td>0</td>\n",
       "      <td>0</td>\n",
       "      <td>0.0</td>\n",
       "      <td>0</td>\n",
       "    </tr>\n",
       "  </tbody>\n",
       "</table>\n",
       "<p>10 rows × 21 columns</p>\n",
       "</div>"
      ],
      "text/plain": [
       "          URL  URL_LENGTH  NUMBER_SPECIAL_CHARACTERS     CHARSET  \\\n",
       "983    B0_909          52                         10       UTF-8   \n",
       "399    B0_295          38                          9       utf-8   \n",
       "1426  B0_2235          73                         11       UTF-8   \n",
       "1409   B0_244          72                          9  ISO-8859-1   \n",
       "850    B0_694          48                         10       UTF-8   \n",
       "254   B0_1342          34                          7  ISO-8859-1   \n",
       "1389   B0_207          71                         12       UTF-8   \n",
       "1161  B0_1399          59                          9  ISO-8859-1   \n",
       "1070  B0_1179          56                         12  ISO-8859-1   \n",
       "740   B0_1201          46                          9  iso-8859-1   \n",
       "\n",
       "                                                 SERVER  CONTENT_LENGTH  \\\n",
       "983                                               nginx             NaN   \n",
       "399                                                 ATS           618.0   \n",
       "1426                             Apache/2.4.18 (Ubuntu)         12487.0   \n",
       "1409  Apache/2.2.26 (Unix) mod_ssl/2.2.26 OpenSSL/0....          2819.0   \n",
       "850                                              Apache            58.0   \n",
       "254                              Apache/2.2.31 (CentOS)             NaN   \n",
       "1389                                             Apache         13522.0   \n",
       "1161                                               None             NaN   \n",
       "1070                                               None          1819.0   \n",
       "740          Apache/2.4.25 (Amazon) OpenSSL/1.0.1k-fips           231.0   \n",
       "\n",
       "     WHOIS_COUNTRY WHOIS_STATEPRO    WHOIS_REGDATE WHOIS_UPDATED_DATE  ...  \\\n",
       "983             CA       Manitoba  30/09/2002 0:00    24/09/2016 0:00  ...   \n",
       "399             US             CA  18/01/1995 0:00    26/08/2015 0:00  ...   \n",
       "1426            US       Illinois   2/08/2000 0:00    26/04/2017 0:00  ...   \n",
       "1409            BE        ANTWERP  13/10/2000 0:00     1/11/2012 0:00  ...   \n",
       "850             US             CO  22/06/2014 0:00    22/06/2016 0:00  ...   \n",
       "254             CA        ALBERTA  10/04/2010 0:00    10/04/2017 0:00  ...   \n",
       "1389            US             CA  18/01/1996 5:00    20/01/2017 1:26  ...   \n",
       "1161            US             CA  29/03/1997 0:00    29/11/2016 0:00  ...   \n",
       "1070            US             CA   2/11/2002 0:00     2/02/2017 0:00  ...   \n",
       "740           None           None  22/09/2009 0:00    23/04/2015 0:00  ...   \n",
       "\n",
       "      DIST_REMOTE_TCP_PORT  REMOTE_IPS  APP_BYTES  SOURCE_APP_PACKETS  \\\n",
       "983                      0           0          0                   0   \n",
       "399                     17           7       5306                  54   \n",
       "1426                    11          12       1524                  22   \n",
       "1409                     2          13       3042                  45   \n",
       "850                      6          12       2634                  28   \n",
       "254                      0           0          0                   0   \n",
       "1389                    20          10       3317                  36   \n",
       "1161                     0           0          0                   0   \n",
       "1070                     0           0          0                   0   \n",
       "740                      0           0          0                   0   \n",
       "\n",
       "      REMOTE_APP_PACKETS  SOURCE_APP_BYTES  REMOTE_APP_BYTES  APP_PACKETS  \\\n",
       "983                    0                 0                 0            0   \n",
       "399                   42             39325              5906           54   \n",
       "1426                  19              1268              1524           22   \n",
       "1409                  26              5914              3520           45   \n",
       "850                   26              4384              2932           28   \n",
       "254                    0                 0                 0            0   \n",
       "1389                  35              8700              3747           36   \n",
       "1161                   0                 0                 0            0   \n",
       "1070                   0                 0                 0            0   \n",
       "740                    0                 0                 0            0   \n",
       "\n",
       "      DNS_QUERY_TIMES  Type  \n",
       "983               0.0     0  \n",
       "399               8.0     0  \n",
       "1426              0.0     0  \n",
       "1409              6.0     0  \n",
       "850               4.0     0  \n",
       "254               0.0     0  \n",
       "1389              6.0     0  \n",
       "1161              0.0     0  \n",
       "1070              0.0     0  \n",
       "740               0.0     0  \n",
       "\n",
       "[10 rows x 21 columns]"
      ]
     },
     "execution_count": 32,
     "metadata": {},
     "output_type": "execute_result"
    }
   ],
   "source": [
    "# Your code here\n",
    "websites.sample(10)"
   ]
  },
  {
   "cell_type": "code",
   "execution_count": 33,
   "metadata": {},
   "outputs": [
    {
     "name": "stdout",
     "output_type": "stream",
     "text": [
      "<class 'pandas.core.frame.DataFrame'>\n",
      "RangeIndex: 1781 entries, 0 to 1780\n",
      "Data columns (total 21 columns):\n",
      " #   Column                     Non-Null Count  Dtype  \n",
      "---  ------                     --------------  -----  \n",
      " 0   URL                        1781 non-null   object \n",
      " 1   URL_LENGTH                 1781 non-null   int64  \n",
      " 2   NUMBER_SPECIAL_CHARACTERS  1781 non-null   int64  \n",
      " 3   CHARSET                    1781 non-null   object \n",
      " 4   SERVER                     1780 non-null   object \n",
      " 5   CONTENT_LENGTH             969 non-null    float64\n",
      " 6   WHOIS_COUNTRY              1781 non-null   object \n",
      " 7   WHOIS_STATEPRO             1781 non-null   object \n",
      " 8   WHOIS_REGDATE              1781 non-null   object \n",
      " 9   WHOIS_UPDATED_DATE         1781 non-null   object \n",
      " 10  TCP_CONVERSATION_EXCHANGE  1781 non-null   int64  \n",
      " 11  DIST_REMOTE_TCP_PORT       1781 non-null   int64  \n",
      " 12  REMOTE_IPS                 1781 non-null   int64  \n",
      " 13  APP_BYTES                  1781 non-null   int64  \n",
      " 14  SOURCE_APP_PACKETS         1781 non-null   int64  \n",
      " 15  REMOTE_APP_PACKETS         1781 non-null   int64  \n",
      " 16  SOURCE_APP_BYTES           1781 non-null   int64  \n",
      " 17  REMOTE_APP_BYTES           1781 non-null   int64  \n",
      " 18  APP_PACKETS                1781 non-null   int64  \n",
      " 19  DNS_QUERY_TIMES            1780 non-null   float64\n",
      " 20  Type                       1781 non-null   int64  \n",
      "dtypes: float64(2), int64(12), object(7)\n",
      "memory usage: 292.3+ KB\n"
     ]
    }
   ],
   "source": [
    "websites.info()"
   ]
  },
  {
   "cell_type": "code",
   "execution_count": 29,
   "metadata": {},
   "outputs": [
    {
     "data": {
      "text/plain": [
       "None"
      ]
     },
     "metadata": {},
     "output_type": "display_data"
    }
   ],
   "source": []
  },
  {
   "cell_type": "markdown",
   "metadata": {},
   "source": [
    "#### Next, evaluate if the columns in this dataset are strongly correlated.\n",
    "\n",
    "In the Mushroom supervised learning lab we did recently, we mentioned we are concerned if our dataset has strongly correlated columns because if it is the case we need to choose certain ML algorithms instead of others. We need to evaluate this for our dataset now.\n",
    "\n",
    "Luckily, most of the columns in this dataset are ordinal which makes things a lot easier for us. In the next cells below, evaluate the level of collinearity of the data.\n",
    "\n",
    "We provide some general directions for you to consult in order to complete this step:\n",
    "\n",
    "1. You will create a correlation matrix using the numeric columns in the dataset.\n",
    "\n",
    "1. Create a heatmap using `seaborn` to visualize which columns have high collinearity.\n",
    "\n",
    "1. Comment on which columns you might need to remove due to high collinearity."
   ]
  },
  {
   "cell_type": "code",
   "execution_count": 38,
   "metadata": {},
   "outputs": [
    {
     "data": {
      "image/png": "[encoded data removed]",
      "text/plain": [
       "<Figure size 432x288 with 2 Axes>"
      ]
     },
     "metadata": {
      "needs_background": "light"
     },
     "output_type": "display_data"
    }
   ],
   "source": [
    "corr=websites.corr()\n",
    "mascara = np.triu(np.ones_like(corr, dtype=bool)) # generamos la máscara para la triangular superior\n",
    "color_map = sns.diverging_palette(0, 10, as_cmap=True) # paleta de colores\n",
    "sns.heatmap(corr,  \n",
    "            mask = mascara,\n",
    "            cmap=color_map,\n",
    "            square=True, #que los datos se vean como cuadrados\n",
    "            linewidth=5, #ancho de línea\n",
    "            vmax=1,\n",
    "            cbar_kws={\"shrink\": .5} #barra lateral\n",
    ");\n"
   ]
  },
  {
   "cell_type": "code",
   "execution_count": 40,
   "metadata": {},
   "outputs": [
    {
     "name": "stderr",
     "output_type": "stream",
     "text": [
      "<ipython-input-40-889e8b14e6c7>:4: FutureWarning: this method is deprecated in favour of `Styler.format(precision=..)`\n",
      "  (corr\n"
     ]
    },
    {
     "data": {
      "text/html": [
       "<style type=\"text/css\">\n",
       "#T_c0e6b_row0_col0, #T_c0e6b_row0_col1, #T_c0e6b_row0_col2, #T_c0e6b_row0_col3, #T_c0e6b_row0_col4, #T_c0e6b_row0_col5, #T_c0e6b_row0_col6, #T_c0e6b_row0_col7, #T_c0e6b_row0_col8, #T_c0e6b_row0_col9, #T_c0e6b_row0_col10, #T_c0e6b_row0_col11, #T_c0e6b_row0_col12, #T_c0e6b_row0_col13, #T_c0e6b_row1_col1, #T_c0e6b_row1_col2, #T_c0e6b_row1_col3, #T_c0e6b_row1_col4, #T_c0e6b_row1_col5, #T_c0e6b_row1_col6, #T_c0e6b_row1_col7, #T_c0e6b_row1_col8, #T_c0e6b_row1_col9, #T_c0e6b_row1_col10, #T_c0e6b_row1_col11, #T_c0e6b_row1_col12, #T_c0e6b_row1_col13, #T_c0e6b_row2_col2, #T_c0e6b_row2_col3, #T_c0e6b_row2_col4, #T_c0e6b_row2_col5, #T_c0e6b_row2_col6, #T_c0e6b_row2_col7, #T_c0e6b_row2_col8, #T_c0e6b_row2_col9, #T_c0e6b_row2_col10, #T_c0e6b_row2_col11, #T_c0e6b_row2_col12, #T_c0e6b_row2_col13, #T_c0e6b_row3_col3, #T_c0e6b_row3_col4, #T_c0e6b_row3_col5, #T_c0e6b_row3_col6, #T_c0e6b_row3_col7, #T_c0e6b_row3_col8, #T_c0e6b_row3_col9, #T_c0e6b_row3_col10, #T_c0e6b_row3_col11, #T_c0e6b_row3_col12, #T_c0e6b_row3_col13, #T_c0e6b_row4_col4, #T_c0e6b_row4_col5, #T_c0e6b_row4_col6, #T_c0e6b_row4_col7, #T_c0e6b_row4_col8, #T_c0e6b_row4_col9, #T_c0e6b_row4_col10, #T_c0e6b_row4_col11, #T_c0e6b_row4_col12, #T_c0e6b_row4_col13, #T_c0e6b_row5_col5, #T_c0e6b_row5_col6, #T_c0e6b_row5_col7, #T_c0e6b_row5_col8, #T_c0e6b_row5_col9, #T_c0e6b_row5_col10, #T_c0e6b_row5_col11, #T_c0e6b_row5_col12, #T_c0e6b_row5_col13, #T_c0e6b_row6_col6, #T_c0e6b_row6_col7, #T_c0e6b_row6_col8, #T_c0e6b_row6_col9, #T_c0e6b_row6_col10, #T_c0e6b_row6_col11, #T_c0e6b_row6_col12, #T_c0e6b_row6_col13, #T_c0e6b_row7_col7, #T_c0e6b_row7_col8, #T_c0e6b_row7_col9, #T_c0e6b_row7_col10, #T_c0e6b_row7_col11, #T_c0e6b_row7_col12, #T_c0e6b_row7_col13, #T_c0e6b_row8_col8, #T_c0e6b_row8_col9, #T_c0e6b_row8_col10, #T_c0e6b_row8_col11, #T_c0e6b_row8_col12, #T_c0e6b_row8_col13, #T_c0e6b_row9_col9, #T_c0e6b_row9_col10, #T_c0e6b_row9_col11, #T_c0e6b_row9_col12, #T_c0e6b_row9_col13, #T_c0e6b_row10_col10, #T_c0e6b_row10_col11, #T_c0e6b_row10_col12, #T_c0e6b_row10_col13, #T_c0e6b_row11_col11, #T_c0e6b_row11_col12, #T_c0e6b_row11_col13, #T_c0e6b_row12_col12, #T_c0e6b_row12_col13, #T_c0e6b_row13_col13 {\n",
       "  background-color: #000000;\n",
       "  color: #f1f1f1;\n",
       "  background-color: #f1f1f1;\n",
       "}\n",
       "#T_c0e6b_row1_col0 {\n",
       "  background-color: #c32e31;\n",
       "  color: #f1f1f1;\n",
       "}\n",
       "#T_c0e6b_row2_col0 {\n",
       "  background-color: #ecd3c5;\n",
       "  color: #000000;\n",
       "}\n",
       "#T_c0e6b_row2_col1, #T_c0e6b_row12_col9 {\n",
       "  background-color: #f2c9b4;\n",
       "  color: #000000;\n",
       "}\n",
       "#T_c0e6b_row3_col0, #T_c0e6b_row3_col1, #T_c0e6b_row8_col0, #T_c0e6b_row13_col7, #T_c0e6b_row13_col8, #T_c0e6b_row13_col11 {\n",
       "  background-color: #d8dce2;\n",
       "  color: #000000;\n",
       "}\n",
       "#T_c0e6b_row3_col2 {\n",
       "  background-color: #e7d7ce;\n",
       "  color: #000000;\n",
       "}\n",
       "#T_c0e6b_row4_col0, #T_c0e6b_row4_col1, #T_c0e6b_row5_col0, #T_c0e6b_row7_col0, #T_c0e6b_row7_col1, #T_c0e6b_row11_col0, #T_c0e6b_row11_col1, #T_c0e6b_row12_col2, #T_c0e6b_row13_col3, #T_c0e6b_row13_col9 {\n",
       "  background-color: #d7dce3;\n",
       "  color: #000000;\n",
       "}\n",
       "#T_c0e6b_row4_col2 {\n",
       "  background-color: #dcdddd;\n",
       "  color: #000000;\n",
       "}\n",
       "#T_c0e6b_row4_col3, #T_c0e6b_row7_col4, #T_c0e6b_row11_col4 {\n",
       "  background-color: #f18d6f;\n",
       "  color: #f1f1f1;\n",
       "}\n",
       "#T_c0e6b_row5_col1, #T_c0e6b_row12_col1 {\n",
       "  background-color: #d6dce4;\n",
       "  color: #000000;\n",
       "}\n",
       "#T_c0e6b_row5_col2 {\n",
       "  background-color: #dddcdc;\n",
       "  color: #000000;\n",
       "}\n",
       "#T_c0e6b_row5_col3 {\n",
       "  background-color: #f7b89c;\n",
       "  color: #000000;\n",
       "}\n",
       "#T_c0e6b_row5_col4 {\n",
       "  background-color: #f2cab5;\n",
       "  color: #000000;\n",
       "}\n",
       "#T_c0e6b_row6_col0, #T_c0e6b_row6_col1, #T_c0e6b_row8_col1, #T_c0e6b_row10_col0, #T_c0e6b_row10_col1 {\n",
       "  background-color: #d9dce1;\n",
       "  color: #000000;\n",
       "}\n",
       "#T_c0e6b_row6_col2, #T_c0e6b_row10_col2 {\n",
       "  background-color: #e3d9d3;\n",
       "  color: #000000;\n",
       "}\n",
       "#T_c0e6b_row6_col3, #T_c0e6b_row10_col3 {\n",
       "  background-color: #f6a283;\n",
       "  color: #000000;\n",
       "}\n",
       "#T_c0e6b_row6_col4, #T_c0e6b_row10_col4 {\n",
       "  background-color: #d95847;\n",
       "  color: #f1f1f1;\n",
       "}\n",
       "#T_c0e6b_row6_col5, #T_c0e6b_row12_col10 {\n",
       "  background-color: #dfdbd9;\n",
       "  color: #000000;\n",
       "}\n",
       "#T_c0e6b_row7_col2, #T_c0e6b_row9_col6, #T_c0e6b_row10_col9, #T_c0e6b_row11_col2 {\n",
       "  background-color: #e6d7cf;\n",
       "  color: #000000;\n",
       "}\n",
       "#T_c0e6b_row7_col3, #T_c0e6b_row10_col6, #T_c0e6b_row11_col3, #T_c0e6b_row11_col7 {\n",
       "  background-color: #b40426;\n",
       "  color: #f1f1f1;\n",
       "}\n",
       "#T_c0e6b_row7_col5, #T_c0e6b_row11_col5 {\n",
       "  background-color: #f7b396;\n",
       "  color: #000000;\n",
       "}\n",
       "#T_c0e6b_row7_col6, #T_c0e6b_row10_col7, #T_c0e6b_row11_col6, #T_c0e6b_row11_col10 {\n",
       "  background-color: #f6a385;\n",
       "  color: #000000;\n",
       "}\n",
       "#T_c0e6b_row8_col2 {\n",
       "  background-color: #e8d6cc;\n",
       "  color: #000000;\n",
       "}\n",
       "#T_c0e6b_row8_col3, #T_c0e6b_row8_col7, #T_c0e6b_row11_col8 {\n",
       "  background-color: #b50927;\n",
       "  color: #f1f1f1;\n",
       "}\n",
       "#T_c0e6b_row8_col4 {\n",
       "  background-color: #ee8669;\n",
       "  color: #f1f1f1;\n",
       "}\n",
       "#T_c0e6b_row8_col5 {\n",
       "  background-color: #f6bda2;\n",
       "  color: #000000;\n",
       "}\n",
       "#T_c0e6b_row8_col6, #T_c0e6b_row10_col8 {\n",
       "  background-color: #f59f80;\n",
       "  color: #000000;\n",
       "}\n",
       "#T_c0e6b_row9_col0, #T_c0e6b_row9_col1, #T_c0e6b_row13_col6, #T_c0e6b_row13_col10 {\n",
       "  background-color: #dbdcde;\n",
       "  color: #000000;\n",
       "}\n",
       "#T_c0e6b_row9_col2 {\n",
       "  background-color: #e9d5cb;\n",
       "  color: #000000;\n",
       "}\n",
       "#T_c0e6b_row9_col3 {\n",
       "  background-color: #cc403a;\n",
       "  color: #f1f1f1;\n",
       "}\n",
       "#T_c0e6b_row9_col4 {\n",
       "  background-color: #f7ba9f;\n",
       "  color: #000000;\n",
       "}\n",
       "#T_c0e6b_row9_col5 {\n",
       "  background-color: #efcebd;\n",
       "  color: #000000;\n",
       "}\n",
       "#T_c0e6b_row9_col7, #T_c0e6b_row11_col9 {\n",
       "  background-color: #cd423b;\n",
       "  color: #f1f1f1;\n",
       "}\n",
       "#T_c0e6b_row9_col8 {\n",
       "  background-color: #ca3b37;\n",
       "  color: #f1f1f1;\n",
       "}\n",
       "#T_c0e6b_row10_col5 {\n",
       "  background-color: #e0dbd8;\n",
       "  color: #000000;\n",
       "}\n",
       "#T_c0e6b_row12_col0 {\n",
       "  background-color: #d4dbe6;\n",
       "  color: #000000;\n",
       "}\n",
       "#T_c0e6b_row12_col3 {\n",
       "  background-color: #f7b599;\n",
       "  color: #000000;\n",
       "}\n",
       "#T_c0e6b_row12_col4 {\n",
       "  background-color: #f5c2aa;\n",
       "  color: #000000;\n",
       "}\n",
       "#T_c0e6b_row12_col5 {\n",
       "  background-color: #f18f71;\n",
       "  color: #f1f1f1;\n",
       "}\n",
       "#T_c0e6b_row12_col6 {\n",
       "  background-color: #dedcdb;\n",
       "  color: #000000;\n",
       "}\n",
       "#T_c0e6b_row12_col7, #T_c0e6b_row12_col11 {\n",
       "  background-color: #f7aa8c;\n",
       "  color: #000000;\n",
       "}\n",
       "#T_c0e6b_row12_col8 {\n",
       "  background-color: #f7b497;\n",
       "  color: #000000;\n",
       "}\n",
       "#T_c0e6b_row13_col0 {\n",
       "  background-color: #efcfbf;\n",
       "  color: #000000;\n",
       "}\n",
       "#T_c0e6b_row13_col1 {\n",
       "  background-color: #f5c0a7;\n",
       "  color: #000000;\n",
       "}\n",
       "#T_c0e6b_row13_col2 {\n",
       "  background-color: #d1dae9;\n",
       "  color: #000000;\n",
       "}\n",
       "#T_c0e6b_row13_col4, #T_c0e6b_row13_col5 {\n",
       "  background-color: #d2dbe8;\n",
       "  color: #000000;\n",
       "}\n",
       "#T_c0e6b_row13_col12 {\n",
       "  background-color: #e5d8d1;\n",
       "  color: #000000;\n",
       "}\n",
       "</style>\n",
       "<table id=\"T_c0e6b_\">\n",
       "  <thead>\n",
       "    <tr>\n",
       "      <th class=\"blank level0\" >&nbsp;</th>\n",
       "      <th class=\"col_heading level0 col0\" >URL_LENGTH</th>\n",
       "      <th class=\"col_heading level0 col1\" >NUMBER_SPECIAL_CHARACTERS</th>\n",
       "      <th class=\"col_heading level0 col2\" >CONTENT_LENGTH</th>\n",
       "      <th class=\"col_heading level0 col3\" >TCP_CONVERSATION_EXCHANGE</th>\n",
       "      <th class=\"col_heading level0 col4\" >DIST_REMOTE_TCP_PORT</th>\n",
       "      <th class=\"col_heading level0 col5\" >REMOTE_IPS</th>\n",
       "      <th class=\"col_heading level0 col6\" >APP_BYTES</th>\n",
       "      <th class=\"col_heading level0 col7\" >SOURCE_APP_PACKETS</th>\n",
       "      <th class=\"col_heading level0 col8\" >REMOTE_APP_PACKETS</th>\n",
       "      <th class=\"col_heading level0 col9\" >SOURCE_APP_BYTES</th>\n",
       "      <th class=\"col_heading level0 col10\" >REMOTE_APP_BYTES</th>\n",
       "      <th class=\"col_heading level0 col11\" >APP_PACKETS</th>\n",
       "      <th class=\"col_heading level0 col12\" >DNS_QUERY_TIMES</th>\n",
       "      <th class=\"col_heading level0 col13\" >Type</th>\n",
       "    </tr>\n",
       "  </thead>\n",
       "  <tbody>\n",
       "    <tr>\n",
       "      <th id=\"T_c0e6b_level0_row0\" class=\"row_heading level0 row0\" >URL_LENGTH</th>\n",
       "      <td id=\"T_c0e6b_row0_col0\" class=\"data row0 col0\" >nan</td>\n",
       "      <td id=\"T_c0e6b_row0_col1\" class=\"data row0 col1\" >nan</td>\n",
       "      <td id=\"T_c0e6b_row0_col2\" class=\"data row0 col2\" >nan</td>\n",
       "      <td id=\"T_c0e6b_row0_col3\" class=\"data row0 col3\" >nan</td>\n",
       "      <td id=\"T_c0e6b_row0_col4\" class=\"data row0 col4\" >nan</td>\n",
       "      <td id=\"T_c0e6b_row0_col5\" class=\"data row0 col5\" >nan</td>\n",
       "      <td id=\"T_c0e6b_row0_col6\" class=\"data row0 col6\" >nan</td>\n",
       "      <td id=\"T_c0e6b_row0_col7\" class=\"data row0 col7\" >nan</td>\n",
       "      <td id=\"T_c0e6b_row0_col8\" class=\"data row0 col8\" >nan</td>\n",
       "      <td id=\"T_c0e6b_row0_col9\" class=\"data row0 col9\" >nan</td>\n",
       "      <td id=\"T_c0e6b_row0_col10\" class=\"data row0 col10\" >nan</td>\n",
       "      <td id=\"T_c0e6b_row0_col11\" class=\"data row0 col11\" >nan</td>\n",
       "      <td id=\"T_c0e6b_row0_col12\" class=\"data row0 col12\" >nan</td>\n",
       "      <td id=\"T_c0e6b_row0_col13\" class=\"data row0 col13\" >nan</td>\n",
       "    </tr>\n",
       "    <tr>\n",
       "      <th id=\"T_c0e6b_level0_row1\" class=\"row_heading level0 row1\" >NUMBER_SPECIAL_CHARACTERS</th>\n",
       "      <td id=\"T_c0e6b_row1_col0\" class=\"data row1 col0\" >0.92</td>\n",
       "      <td id=\"T_c0e6b_row1_col1\" class=\"data row1 col1\" >nan</td>\n",
       "      <td id=\"T_c0e6b_row1_col2\" class=\"data row1 col2\" >nan</td>\n",
       "      <td id=\"T_c0e6b_row1_col3\" class=\"data row1 col3\" >nan</td>\n",
       "      <td id=\"T_c0e6b_row1_col4\" class=\"data row1 col4\" >nan</td>\n",
       "      <td id=\"T_c0e6b_row1_col5\" class=\"data row1 col5\" >nan</td>\n",
       "      <td id=\"T_c0e6b_row1_col6\" class=\"data row1 col6\" >nan</td>\n",
       "      <td id=\"T_c0e6b_row1_col7\" class=\"data row1 col7\" >nan</td>\n",
       "      <td id=\"T_c0e6b_row1_col8\" class=\"data row1 col8\" >nan</td>\n",
       "      <td id=\"T_c0e6b_row1_col9\" class=\"data row1 col9\" >nan</td>\n",
       "      <td id=\"T_c0e6b_row1_col10\" class=\"data row1 col10\" >nan</td>\n",
       "      <td id=\"T_c0e6b_row1_col11\" class=\"data row1 col11\" >nan</td>\n",
       "      <td id=\"T_c0e6b_row1_col12\" class=\"data row1 col12\" >nan</td>\n",
       "      <td id=\"T_c0e6b_row1_col13\" class=\"data row1 col13\" >nan</td>\n",
       "    </tr>\n",
       "    <tr>\n",
       "      <th id=\"T_c0e6b_level0_row2\" class=\"row_heading level0 row2\" >CONTENT_LENGTH</th>\n",
       "      <td id=\"T_c0e6b_row2_col0\" class=\"data row2 col0\" >0.13</td>\n",
       "      <td id=\"T_c0e6b_row2_col1\" class=\"data row2 col1\" >0.21</td>\n",
       "      <td id=\"T_c0e6b_row2_col2\" class=\"data row2 col2\" >nan</td>\n",
       "      <td id=\"T_c0e6b_row2_col3\" class=\"data row2 col3\" >nan</td>\n",
       "      <td id=\"T_c0e6b_row2_col4\" class=\"data row2 col4\" >nan</td>\n",
       "      <td id=\"T_c0e6b_row2_col5\" class=\"data row2 col5\" >nan</td>\n",
       "      <td id=\"T_c0e6b_row2_col6\" class=\"data row2 col6\" >nan</td>\n",
       "      <td id=\"T_c0e6b_row2_col7\" class=\"data row2 col7\" >nan</td>\n",
       "      <td id=\"T_c0e6b_row2_col8\" class=\"data row2 col8\" >nan</td>\n",
       "      <td id=\"T_c0e6b_row2_col9\" class=\"data row2 col9\" >nan</td>\n",
       "      <td id=\"T_c0e6b_row2_col10\" class=\"data row2 col10\" >nan</td>\n",
       "      <td id=\"T_c0e6b_row2_col11\" class=\"data row2 col11\" >nan</td>\n",
       "      <td id=\"T_c0e6b_row2_col12\" class=\"data row2 col12\" >nan</td>\n",
       "      <td id=\"T_c0e6b_row2_col13\" class=\"data row2 col13\" >nan</td>\n",
       "    </tr>\n",
       "    <tr>\n",
       "      <th id=\"T_c0e6b_level0_row3\" class=\"row_heading level0 row3\" >TCP_CONVERSATION_EXCHANGE</th>\n",
       "      <td id=\"T_c0e6b_row3_col0\" class=\"data row3 col0\" >-0.04</td>\n",
       "      <td id=\"T_c0e6b_row3_col1\" class=\"data row3 col1\" >-0.04</td>\n",
       "      <td id=\"T_c0e6b_row3_col2\" class=\"data row3 col2\" >0.08</td>\n",
       "      <td id=\"T_c0e6b_row3_col3\" class=\"data row3 col3\" >nan</td>\n",
       "      <td id=\"T_c0e6b_row3_col4\" class=\"data row3 col4\" >nan</td>\n",
       "      <td id=\"T_c0e6b_row3_col5\" class=\"data row3 col5\" >nan</td>\n",
       "      <td id=\"T_c0e6b_row3_col6\" class=\"data row3 col6\" >nan</td>\n",
       "      <td id=\"T_c0e6b_row3_col7\" class=\"data row3 col7\" >nan</td>\n",
       "      <td id=\"T_c0e6b_row3_col8\" class=\"data row3 col8\" >nan</td>\n",
       "      <td id=\"T_c0e6b_row3_col9\" class=\"data row3 col9\" >nan</td>\n",
       "      <td id=\"T_c0e6b_row3_col10\" class=\"data row3 col10\" >nan</td>\n",
       "      <td id=\"T_c0e6b_row3_col11\" class=\"data row3 col11\" >nan</td>\n",
       "      <td id=\"T_c0e6b_row3_col12\" class=\"data row3 col12\" >nan</td>\n",
       "      <td id=\"T_c0e6b_row3_col13\" class=\"data row3 col13\" >nan</td>\n",
       "    </tr>\n",
       "    <tr>\n",
       "      <th id=\"T_c0e6b_level0_row4\" class=\"row_heading level0 row4\" >DIST_REMOTE_TCP_PORT</th>\n",
       "      <td id=\"T_c0e6b_row4_col0\" class=\"data row4 col0\" >-0.04</td>\n",
       "      <td id=\"T_c0e6b_row4_col1\" class=\"data row4 col1\" >-0.04</td>\n",
       "      <td id=\"T_c0e6b_row4_col2\" class=\"data row4 col2\" >-0.00</td>\n",
       "      <td id=\"T_c0e6b_row4_col3\" class=\"data row4 col3\" >0.56</td>\n",
       "      <td id=\"T_c0e6b_row4_col4\" class=\"data row4 col4\" >nan</td>\n",
       "      <td id=\"T_c0e6b_row4_col5\" class=\"data row4 col5\" >nan</td>\n",
       "      <td id=\"T_c0e6b_row4_col6\" class=\"data row4 col6\" >nan</td>\n",
       "      <td id=\"T_c0e6b_row4_col7\" class=\"data row4 col7\" >nan</td>\n",
       "      <td id=\"T_c0e6b_row4_col8\" class=\"data row4 col8\" >nan</td>\n",
       "      <td id=\"T_c0e6b_row4_col9\" class=\"data row4 col9\" >nan</td>\n",
       "      <td id=\"T_c0e6b_row4_col10\" class=\"data row4 col10\" >nan</td>\n",
       "      <td id=\"T_c0e6b_row4_col11\" class=\"data row4 col11\" >nan</td>\n",
       "      <td id=\"T_c0e6b_row4_col12\" class=\"data row4 col12\" >nan</td>\n",
       "      <td id=\"T_c0e6b_row4_col13\" class=\"data row4 col13\" >nan</td>\n",
       "    </tr>\n",
       "    <tr>\n",
       "      <th id=\"T_c0e6b_level0_row5\" class=\"row_heading level0 row5\" >REMOTE_IPS</th>\n",
       "      <td id=\"T_c0e6b_row5_col0\" class=\"data row5 col0\" >-0.05</td>\n",
       "      <td id=\"T_c0e6b_row5_col1\" class=\"data row5 col1\" >-0.05</td>\n",
       "      <td id=\"T_c0e6b_row5_col2\" class=\"data row5 col2\" >0.00</td>\n",
       "      <td id=\"T_c0e6b_row5_col3\" class=\"data row5 col3\" >0.33</td>\n",
       "      <td id=\"T_c0e6b_row5_col4\" class=\"data row5 col4\" >0.21</td>\n",
       "      <td id=\"T_c0e6b_row5_col5\" class=\"data row5 col5\" >nan</td>\n",
       "      <td id=\"T_c0e6b_row5_col6\" class=\"data row5 col6\" >nan</td>\n",
       "      <td id=\"T_c0e6b_row5_col7\" class=\"data row5 col7\" >nan</td>\n",
       "      <td id=\"T_c0e6b_row5_col8\" class=\"data row5 col8\" >nan</td>\n",
       "      <td id=\"T_c0e6b_row5_col9\" class=\"data row5 col9\" >nan</td>\n",
       "      <td id=\"T_c0e6b_row5_col10\" class=\"data row5 col10\" >nan</td>\n",
       "      <td id=\"T_c0e6b_row5_col11\" class=\"data row5 col11\" >nan</td>\n",
       "      <td id=\"T_c0e6b_row5_col12\" class=\"data row5 col12\" >nan</td>\n",
       "      <td id=\"T_c0e6b_row5_col13\" class=\"data row5 col13\" >nan</td>\n",
       "    </tr>\n",
       "    <tr>\n",
       "      <th id=\"T_c0e6b_level0_row6\" class=\"row_heading level0 row6\" >APP_BYTES</th>\n",
       "      <td id=\"T_c0e6b_row6_col0\" class=\"data row6 col0\" >-0.03</td>\n",
       "      <td id=\"T_c0e6b_row6_col1\" class=\"data row6 col1\" >-0.02</td>\n",
       "      <td id=\"T_c0e6b_row6_col2\" class=\"data row6 col2\" >0.05</td>\n",
       "      <td id=\"T_c0e6b_row6_col3\" class=\"data row6 col3\" >0.46</td>\n",
       "      <td id=\"T_c0e6b_row6_col4\" class=\"data row6 col4\" >0.78</td>\n",
       "      <td id=\"T_c0e6b_row6_col5\" class=\"data row6 col5\" >0.02</td>\n",
       "      <td id=\"T_c0e6b_row6_col6\" class=\"data row6 col6\" >nan</td>\n",
       "      <td id=\"T_c0e6b_row6_col7\" class=\"data row6 col7\" >nan</td>\n",
       "      <td id=\"T_c0e6b_row6_col8\" class=\"data row6 col8\" >nan</td>\n",
       "      <td id=\"T_c0e6b_row6_col9\" class=\"data row6 col9\" >nan</td>\n",
       "      <td id=\"T_c0e6b_row6_col10\" class=\"data row6 col10\" >nan</td>\n",
       "      <td id=\"T_c0e6b_row6_col11\" class=\"data row6 col11\" >nan</td>\n",
       "      <td id=\"T_c0e6b_row6_col12\" class=\"data row6 col12\" >nan</td>\n",
       "      <td id=\"T_c0e6b_row6_col13\" class=\"data row6 col13\" >nan</td>\n",
       "    </tr>\n",
       "    <tr>\n",
       "      <th id=\"T_c0e6b_level0_row7\" class=\"row_heading level0 row7\" >SOURCE_APP_PACKETS</th>\n",
       "      <td id=\"T_c0e6b_row7_col0\" class=\"data row7 col0\" >-0.04</td>\n",
       "      <td id=\"T_c0e6b_row7_col1\" class=\"data row7 col1\" >-0.04</td>\n",
       "      <td id=\"T_c0e6b_row7_col2\" class=\"data row7 col2\" >0.07</td>\n",
       "      <td id=\"T_c0e6b_row7_col3\" class=\"data row7 col3\" >1.00</td>\n",
       "      <td id=\"T_c0e6b_row7_col4\" class=\"data row7 col4\" >0.56</td>\n",
       "      <td id=\"T_c0e6b_row7_col5\" class=\"data row7 col5\" >0.36</td>\n",
       "      <td id=\"T_c0e6b_row7_col6\" class=\"data row7 col6\" >0.45</td>\n",
       "      <td id=\"T_c0e6b_row7_col7\" class=\"data row7 col7\" >nan</td>\n",
       "      <td id=\"T_c0e6b_row7_col8\" class=\"data row7 col8\" >nan</td>\n",
       "      <td id=\"T_c0e6b_row7_col9\" class=\"data row7 col9\" >nan</td>\n",
       "      <td id=\"T_c0e6b_row7_col10\" class=\"data row7 col10\" >nan</td>\n",
       "      <td id=\"T_c0e6b_row7_col11\" class=\"data row7 col11\" >nan</td>\n",
       "      <td id=\"T_c0e6b_row7_col12\" class=\"data row7 col12\" >nan</td>\n",
       "      <td id=\"T_c0e6b_row7_col13\" class=\"data row7 col13\" >nan</td>\n",
       "    </tr>\n",
       "    <tr>\n",
       "      <th id=\"T_c0e6b_level0_row8\" class=\"row_heading level0 row8\" >REMOTE_APP_PACKETS</th>\n",
       "      <td id=\"T_c0e6b_row8_col0\" class=\"data row8 col0\" >-0.03</td>\n",
       "      <td id=\"T_c0e6b_row8_col1\" class=\"data row8 col1\" >-0.03</td>\n",
       "      <td id=\"T_c0e6b_row8_col2\" class=\"data row8 col2\" >0.09</td>\n",
       "      <td id=\"T_c0e6b_row8_col3\" class=\"data row8 col3\" >0.99</td>\n",
       "      <td id=\"T_c0e6b_row8_col4\" class=\"data row8 col4\" >0.59</td>\n",
       "      <td id=\"T_c0e6b_row8_col5\" class=\"data row8 col5\" >0.30</td>\n",
       "      <td id=\"T_c0e6b_row8_col6\" class=\"data row8 col6\" >0.47</td>\n",
       "      <td id=\"T_c0e6b_row8_col7\" class=\"data row8 col7\" >0.99</td>\n",
       "      <td id=\"T_c0e6b_row8_col8\" class=\"data row8 col8\" >nan</td>\n",
       "      <td id=\"T_c0e6b_row8_col9\" class=\"data row8 col9\" >nan</td>\n",
       "      <td id=\"T_c0e6b_row8_col10\" class=\"data row8 col10\" >nan</td>\n",
       "      <td id=\"T_c0e6b_row8_col11\" class=\"data row8 col11\" >nan</td>\n",
       "      <td id=\"T_c0e6b_row8_col12\" class=\"data row8 col12\" >nan</td>\n",
       "      <td id=\"T_c0e6b_row8_col13\" class=\"data row8 col13\" >nan</td>\n",
       "    </tr>\n",
       "    <tr>\n",
       "      <th id=\"T_c0e6b_level0_row9\" class=\"row_heading level0 row9\" >SOURCE_APP_BYTES</th>\n",
       "      <td id=\"T_c0e6b_row9_col0\" class=\"data row9 col0\" >-0.01</td>\n",
       "      <td id=\"T_c0e6b_row9_col1\" class=\"data row9 col1\" >-0.01</td>\n",
       "      <td id=\"T_c0e6b_row9_col2\" class=\"data row9 col2\" >0.10</td>\n",
       "      <td id=\"T_c0e6b_row9_col3\" class=\"data row9 col3\" >0.87</td>\n",
       "      <td id=\"T_c0e6b_row9_col4\" class=\"data row9 col4\" >0.31</td>\n",
       "      <td id=\"T_c0e6b_row9_col5\" class=\"data row9 col5\" >0.17</td>\n",
       "      <td id=\"T_c0e6b_row9_col6\" class=\"data row9 col6\" >0.07</td>\n",
       "      <td id=\"T_c0e6b_row9_col7\" class=\"data row9 col7\" >0.86</td>\n",
       "      <td id=\"T_c0e6b_row9_col8\" class=\"data row9 col8\" >0.88</td>\n",
       "      <td id=\"T_c0e6b_row9_col9\" class=\"data row9 col9\" >nan</td>\n",
       "      <td id=\"T_c0e6b_row9_col10\" class=\"data row9 col10\" >nan</td>\n",
       "      <td id=\"T_c0e6b_row9_col11\" class=\"data row9 col11\" >nan</td>\n",
       "      <td id=\"T_c0e6b_row9_col12\" class=\"data row9 col12\" >nan</td>\n",
       "      <td id=\"T_c0e6b_row9_col13\" class=\"data row9 col13\" >nan</td>\n",
       "    </tr>\n",
       "    <tr>\n",
       "      <th id=\"T_c0e6b_level0_row10\" class=\"row_heading level0 row10\" >REMOTE_APP_BYTES</th>\n",
       "      <td id=\"T_c0e6b_row10_col0\" class=\"data row10 col0\" >-0.03</td>\n",
       "      <td id=\"T_c0e6b_row10_col1\" class=\"data row10 col1\" >-0.02</td>\n",
       "      <td id=\"T_c0e6b_row10_col2\" class=\"data row10 col2\" >0.05</td>\n",
       "      <td id=\"T_c0e6b_row10_col3\" class=\"data row10 col3\" >0.46</td>\n",
       "      <td id=\"T_c0e6b_row10_col4\" class=\"data row10 col4\" >0.78</td>\n",
       "      <td id=\"T_c0e6b_row10_col5\" class=\"data row10 col5\" >0.03</td>\n",
       "      <td id=\"T_c0e6b_row10_col6\" class=\"data row10 col6\" >1.00</td>\n",
       "      <td id=\"T_c0e6b_row10_col7\" class=\"data row10 col7\" >0.45</td>\n",
       "      <td id=\"T_c0e6b_row10_col8\" class=\"data row10 col8\" >0.47</td>\n",
       "      <td id=\"T_c0e6b_row10_col9\" class=\"data row10 col9\" >0.08</td>\n",
       "      <td id=\"T_c0e6b_row10_col10\" class=\"data row10 col10\" >nan</td>\n",
       "      <td id=\"T_c0e6b_row10_col11\" class=\"data row10 col11\" >nan</td>\n",
       "      <td id=\"T_c0e6b_row10_col12\" class=\"data row10 col12\" >nan</td>\n",
       "      <td id=\"T_c0e6b_row10_col13\" class=\"data row10 col13\" >nan</td>\n",
       "    </tr>\n",
       "    <tr>\n",
       "      <th id=\"T_c0e6b_level0_row11\" class=\"row_heading level0 row11\" >APP_PACKETS</th>\n",
       "      <td id=\"T_c0e6b_row11_col0\" class=\"data row11 col0\" >-0.04</td>\n",
       "      <td id=\"T_c0e6b_row11_col1\" class=\"data row11 col1\" >-0.04</td>\n",
       "      <td id=\"T_c0e6b_row11_col2\" class=\"data row11 col2\" >0.07</td>\n",
       "      <td id=\"T_c0e6b_row11_col3\" class=\"data row11 col3\" >1.00</td>\n",
       "      <td id=\"T_c0e6b_row11_col4\" class=\"data row11 col4\" >0.56</td>\n",
       "      <td id=\"T_c0e6b_row11_col5\" class=\"data row11 col5\" >0.36</td>\n",
       "      <td id=\"T_c0e6b_row11_col6\" class=\"data row11 col6\" >0.45</td>\n",
       "      <td id=\"T_c0e6b_row11_col7\" class=\"data row11 col7\" >1.00</td>\n",
       "      <td id=\"T_c0e6b_row11_col8\" class=\"data row11 col8\" >0.99</td>\n",
       "      <td id=\"T_c0e6b_row11_col9\" class=\"data row11 col9\" >0.86</td>\n",
       "      <td id=\"T_c0e6b_row11_col10\" class=\"data row11 col10\" >0.45</td>\n",
       "      <td id=\"T_c0e6b_row11_col11\" class=\"data row11 col11\" >nan</td>\n",
       "      <td id=\"T_c0e6b_row11_col12\" class=\"data row11 col12\" >nan</td>\n",
       "      <td id=\"T_c0e6b_row11_col13\" class=\"data row11 col13\" >nan</td>\n",
       "    </tr>\n",
       "    <tr>\n",
       "      <th id=\"T_c0e6b_level0_row12\" class=\"row_heading level0 row12\" >DNS_QUERY_TIMES</th>\n",
       "      <td id=\"T_c0e6b_row12_col0\" class=\"data row12 col0\" >-0.07</td>\n",
       "      <td id=\"T_c0e6b_row12_col1\" class=\"data row12 col1\" >-0.05</td>\n",
       "      <td id=\"T_c0e6b_row12_col2\" class=\"data row12 col2\" >-0.05</td>\n",
       "      <td id=\"T_c0e6b_row12_col3\" class=\"data row12 col3\" >0.35</td>\n",
       "      <td id=\"T_c0e6b_row12_col4\" class=\"data row12 col4\" >0.26</td>\n",
       "      <td id=\"T_c0e6b_row12_col5\" class=\"data row12 col5\" >0.55</td>\n",
       "      <td id=\"T_c0e6b_row12_col6\" class=\"data row12 col6\" >0.01</td>\n",
       "      <td id=\"T_c0e6b_row12_col7\" class=\"data row12 col7\" >0.41</td>\n",
       "      <td id=\"T_c0e6b_row12_col8\" class=\"data row12 col8\" >0.36</td>\n",
       "      <td id=\"T_c0e6b_row12_col9\" class=\"data row12 col9\" >0.22</td>\n",
       "      <td id=\"T_c0e6b_row12_col10\" class=\"data row12 col10\" >0.02</td>\n",
       "      <td id=\"T_c0e6b_row12_col11\" class=\"data row12 col11\" >0.41</td>\n",
       "      <td id=\"T_c0e6b_row12_col12\" class=\"data row12 col12\" >nan</td>\n",
       "      <td id=\"T_c0e6b_row12_col13\" class=\"data row12 col13\" >nan</td>\n",
       "    </tr>\n",
       "    <tr>\n",
       "      <th id=\"T_c0e6b_level0_row13\" class=\"row_heading level0 row13\" >Type</th>\n",
       "      <td id=\"T_c0e6b_row13_col0\" class=\"data row13 col0\" >0.16</td>\n",
       "      <td id=\"T_c0e6b_row13_col1\" class=\"data row13 col1\" >0.28</td>\n",
       "      <td id=\"T_c0e6b_row13_col2\" class=\"data row13 col2\" >-0.09</td>\n",
       "      <td id=\"T_c0e6b_row13_col3\" class=\"data row13 col3\" >-0.04</td>\n",
       "      <td id=\"T_c0e6b_row13_col4\" class=\"data row13 col4\" >-0.08</td>\n",
       "      <td id=\"T_c0e6b_row13_col5\" class=\"data row13 col5\" >-0.08</td>\n",
       "      <td id=\"T_c0e6b_row13_col6\" class=\"data row13 col6\" >-0.01</td>\n",
       "      <td id=\"T_c0e6b_row13_col7\" class=\"data row13 col7\" >-0.03</td>\n",
       "      <td id=\"T_c0e6b_row13_col8\" class=\"data row13 col8\" >-0.03</td>\n",
       "      <td id=\"T_c0e6b_row13_col9\" class=\"data row13 col9\" >-0.04</td>\n",
       "      <td id=\"T_c0e6b_row13_col10\" class=\"data row13 col10\" >-0.01</td>\n",
       "      <td id=\"T_c0e6b_row13_col11\" class=\"data row13 col11\" >-0.03</td>\n",
       "      <td id=\"T_c0e6b_row13_col12\" class=\"data row13 col12\" >0.07</td>\n",
       "      <td id=\"T_c0e6b_row13_col13\" class=\"data row13 col13\" >nan</td>\n",
       "    </tr>\n",
       "  </tbody>\n",
       "</table>\n"
      ],
      "text/plain": [
       "<pandas.io.formats.style.Styler at 0x7f9eb47f9610>"
      ]
     },
     "execution_count": 40,
     "metadata": {},
     "output_type": "execute_result"
    }
   ],
   "source": [
    "corr=websites.corr()\n",
    "mask = np.zeros_like(corr, dtype=bool)\n",
    "mask[np.triu_indices_from(mask)] = True\n",
    "corr[mask] = np.nan\n",
    "(corr\n",
    " .style\n",
    " .background_gradient(cmap='coolwarm', axis=None, vmin=-1, vmax=1)\n",
    " .highlight_null(null_color='#f1f1f1') \n",
    " .set_precision(2))"
   ]
  },
  {
   "cell_type": "markdown",
   "metadata": {},
   "source": [
    "**Probablemente todos los cuadrados de mattriz que estén en un rojo intenso supondrán que se deban quitar todas esas columnas, dado que estamos hablando de una correlación muy fuerte. Esto va a suponer que no vayamos verderamente a poder apreciar el efecto que tengan esas variables predictoras sobre la variable 'Type', dado que no son independientes.**"
   ]
  },
  {
   "cell_type": "markdown",
   "metadata": {},
   "source": [
    "# Challenge 2 - Remove Column Collinearity.\n",
    "\n",
    "From the heatmap you created, you should have seen at least 3 columns that can be removed due to high collinearity. Remove these columns from the dataset.\n",
    "\n",
    "Note that you should remove as few columns as you can. You don't have to remove all the columns at once. But instead, try removing one column, then produce the heatmap again to determine if additional columns should be removed. As long as the dataset no longer contains columns that are correlated for over 90%, you can stop. Also, keep in mind when two columns have high collinearity, you only need to remove one of them but not both.\n",
    "\n",
    "In the cells below, remove as few columns as you can to eliminate the high collinearity in the dataset. Make sure to comment on your way so that the instructional team can learn about your thinking process which allows them to give feedback. At the end, print the heatmap again."
   ]
  },
  {
   "cell_type": "code",
   "execution_count": 63,
   "metadata": {},
   "outputs": [],
   "source": [
    "# Your code here\n",
    "websites= websites.drop(['REMOTE_APP_PACKETS'], axis=1)"
   ]
  },
  {
   "cell_type": "code",
   "execution_count": 64,
   "metadata": {},
   "outputs": [
    {
     "name": "stderr",
     "output_type": "stream",
     "text": [
      "<ipython-input-64-aa8f49960164>:5: FutureWarning: this method is deprecated in favour of `Styler.format(precision=..)`\n",
      "  (corr\n"
     ]
    },
    {
     "data": {
      "text/html": [
       "<style type=\"text/css\">\n",
       "#T_ebc1d_row0_col0, #T_ebc1d_row0_col1, #T_ebc1d_row0_col2, #T_ebc1d_row0_col3, #T_ebc1d_row0_col4, #T_ebc1d_row0_col5, #T_ebc1d_row0_col6, #T_ebc1d_row0_col7, #T_ebc1d_row1_col1, #T_ebc1d_row1_col2, #T_ebc1d_row1_col3, #T_ebc1d_row1_col4, #T_ebc1d_row1_col5, #T_ebc1d_row1_col6, #T_ebc1d_row1_col7, #T_ebc1d_row2_col2, #T_ebc1d_row2_col3, #T_ebc1d_row2_col4, #T_ebc1d_row2_col5, #T_ebc1d_row2_col6, #T_ebc1d_row2_col7, #T_ebc1d_row3_col3, #T_ebc1d_row3_col4, #T_ebc1d_row3_col5, #T_ebc1d_row3_col6, #T_ebc1d_row3_col7, #T_ebc1d_row4_col4, #T_ebc1d_row4_col5, #T_ebc1d_row4_col6, #T_ebc1d_row4_col7, #T_ebc1d_row5_col5, #T_ebc1d_row5_col6, #T_ebc1d_row5_col7, #T_ebc1d_row6_col6, #T_ebc1d_row6_col7, #T_ebc1d_row7_col7 {\n",
       "  background-color: #000000;\n",
       "  color: #f1f1f1;\n",
       "  background-color: #f1f1f1;\n",
       "}\n",
       "#T_ebc1d_row1_col0, #T_ebc1d_row6_col5 {\n",
       "  background-color: #f2c9b4;\n",
       "  color: #000000;\n",
       "}\n",
       "#T_ebc1d_row2_col0, #T_ebc1d_row6_col1, #T_ebc1d_row7_col5 {\n",
       "  background-color: #d7dce3;\n",
       "  color: #000000;\n",
       "}\n",
       "#T_ebc1d_row2_col1 {\n",
       "  background-color: #dcdddd;\n",
       "  color: #000000;\n",
       "}\n",
       "#T_ebc1d_row3_col0, #T_ebc1d_row6_col0 {\n",
       "  background-color: #d6dce4;\n",
       "  color: #000000;\n",
       "}\n",
       "#T_ebc1d_row3_col1 {\n",
       "  background-color: #dddcdc;\n",
       "  color: #000000;\n",
       "}\n",
       "#T_ebc1d_row3_col2 {\n",
       "  background-color: #f2cab5;\n",
       "  color: #000000;\n",
       "}\n",
       "#T_ebc1d_row4_col0 {\n",
       "  background-color: #d9dce1;\n",
       "  color: #000000;\n",
       "}\n",
       "#T_ebc1d_row4_col1 {\n",
       "  background-color: #e3d9d3;\n",
       "  color: #000000;\n",
       "}\n",
       "#T_ebc1d_row4_col2 {\n",
       "  background-color: #d95847;\n",
       "  color: #f1f1f1;\n",
       "}\n",
       "#T_ebc1d_row4_col3 {\n",
       "  background-color: #dfdbd9;\n",
       "  color: #000000;\n",
       "}\n",
       "#T_ebc1d_row5_col0, #T_ebc1d_row7_col4 {\n",
       "  background-color: #dbdcde;\n",
       "  color: #000000;\n",
       "}\n",
       "#T_ebc1d_row5_col1 {\n",
       "  background-color: #e9d5cb;\n",
       "  color: #000000;\n",
       "}\n",
       "#T_ebc1d_row5_col2 {\n",
       "  background-color: #f7ba9f;\n",
       "  color: #000000;\n",
       "}\n",
       "#T_ebc1d_row5_col3 {\n",
       "  background-color: #efcebd;\n",
       "  color: #000000;\n",
       "}\n",
       "#T_ebc1d_row5_col4 {\n",
       "  background-color: #e6d7cf;\n",
       "  color: #000000;\n",
       "}\n",
       "#T_ebc1d_row6_col2 {\n",
       "  background-color: #f5c2aa;\n",
       "  color: #000000;\n",
       "}\n",
       "#T_ebc1d_row6_col3 {\n",
       "  background-color: #f18f71;\n",
       "  color: #f1f1f1;\n",
       "}\n",
       "#T_ebc1d_row6_col4 {\n",
       "  background-color: #dedcdb;\n",
       "  color: #000000;\n",
       "}\n",
       "#T_ebc1d_row7_col0 {\n",
       "  background-color: #f5c0a7;\n",
       "  color: #000000;\n",
       "}\n",
       "#T_ebc1d_row7_col1 {\n",
       "  background-color: #d1dae9;\n",
       "  color: #000000;\n",
       "}\n",
       "#T_ebc1d_row7_col2, #T_ebc1d_row7_col3 {\n",
       "  background-color: #d2dbe8;\n",
       "  color: #000000;\n",
       "}\n",
       "#T_ebc1d_row7_col6 {\n",
       "  background-color: #e5d8d1;\n",
       "  color: #000000;\n",
       "}\n",
       "</style>\n",
       "<table id=\"T_ebc1d_\">\n",
       "  <thead>\n",
       "    <tr>\n",
       "      <th class=\"blank level0\" >&nbsp;</th>\n",
       "      <th class=\"col_heading level0 col0\" >NUMBER_SPECIAL_CHARACTERS</th>\n",
       "      <th class=\"col_heading level0 col1\" >CONTENT_LENGTH</th>\n",
       "      <th class=\"col_heading level0 col2\" >DIST_REMOTE_TCP_PORT</th>\n",
       "      <th class=\"col_heading level0 col3\" >REMOTE_IPS</th>\n",
       "      <th class=\"col_heading level0 col4\" >APP_BYTES</th>\n",
       "      <th class=\"col_heading level0 col5\" >SOURCE_APP_BYTES</th>\n",
       "      <th class=\"col_heading level0 col6\" >DNS_QUERY_TIMES</th>\n",
       "      <th class=\"col_heading level0 col7\" >Type</th>\n",
       "    </tr>\n",
       "  </thead>\n",
       "  <tbody>\n",
       "    <tr>\n",
       "      <th id=\"T_ebc1d_level0_row0\" class=\"row_heading level0 row0\" >NUMBER_SPECIAL_CHARACTERS</th>\n",
       "      <td id=\"T_ebc1d_row0_col0\" class=\"data row0 col0\" >nan</td>\n",
       "      <td id=\"T_ebc1d_row0_col1\" class=\"data row0 col1\" >nan</td>\n",
       "      <td id=\"T_ebc1d_row0_col2\" class=\"data row0 col2\" >nan</td>\n",
       "      <td id=\"T_ebc1d_row0_col3\" class=\"data row0 col3\" >nan</td>\n",
       "      <td id=\"T_ebc1d_row0_col4\" class=\"data row0 col4\" >nan</td>\n",
       "      <td id=\"T_ebc1d_row0_col5\" class=\"data row0 col5\" >nan</td>\n",
       "      <td id=\"T_ebc1d_row0_col6\" class=\"data row0 col6\" >nan</td>\n",
       "      <td id=\"T_ebc1d_row0_col7\" class=\"data row0 col7\" >nan</td>\n",
       "    </tr>\n",
       "    <tr>\n",
       "      <th id=\"T_ebc1d_level0_row1\" class=\"row_heading level0 row1\" >CONTENT_LENGTH</th>\n",
       "      <td id=\"T_ebc1d_row1_col0\" class=\"data row1 col0\" >0.21</td>\n",
       "      <td id=\"T_ebc1d_row1_col1\" class=\"data row1 col1\" >nan</td>\n",
       "      <td id=\"T_ebc1d_row1_col2\" class=\"data row1 col2\" >nan</td>\n",
       "      <td id=\"T_ebc1d_row1_col3\" class=\"data row1 col3\" >nan</td>\n",
       "      <td id=\"T_ebc1d_row1_col4\" class=\"data row1 col4\" >nan</td>\n",
       "      <td id=\"T_ebc1d_row1_col5\" class=\"data row1 col5\" >nan</td>\n",
       "      <td id=\"T_ebc1d_row1_col6\" class=\"data row1 col6\" >nan</td>\n",
       "      <td id=\"T_ebc1d_row1_col7\" class=\"data row1 col7\" >nan</td>\n",
       "    </tr>\n",
       "    <tr>\n",
       "      <th id=\"T_ebc1d_level0_row2\" class=\"row_heading level0 row2\" >DIST_REMOTE_TCP_PORT</th>\n",
       "      <td id=\"T_ebc1d_row2_col0\" class=\"data row2 col0\" >-0.04</td>\n",
       "      <td id=\"T_ebc1d_row2_col1\" class=\"data row2 col1\" >-0.00</td>\n",
       "      <td id=\"T_ebc1d_row2_col2\" class=\"data row2 col2\" >nan</td>\n",
       "      <td id=\"T_ebc1d_row2_col3\" class=\"data row2 col3\" >nan</td>\n",
       "      <td id=\"T_ebc1d_row2_col4\" class=\"data row2 col4\" >nan</td>\n",
       "      <td id=\"T_ebc1d_row2_col5\" class=\"data row2 col5\" >nan</td>\n",
       "      <td id=\"T_ebc1d_row2_col6\" class=\"data row2 col6\" >nan</td>\n",
       "      <td id=\"T_ebc1d_row2_col7\" class=\"data row2 col7\" >nan</td>\n",
       "    </tr>\n",
       "    <tr>\n",
       "      <th id=\"T_ebc1d_level0_row3\" class=\"row_heading level0 row3\" >REMOTE_IPS</th>\n",
       "      <td id=\"T_ebc1d_row3_col0\" class=\"data row3 col0\" >-0.05</td>\n",
       "      <td id=\"T_ebc1d_row3_col1\" class=\"data row3 col1\" >0.00</td>\n",
       "      <td id=\"T_ebc1d_row3_col2\" class=\"data row3 col2\" >0.21</td>\n",
       "      <td id=\"T_ebc1d_row3_col3\" class=\"data row3 col3\" >nan</td>\n",
       "      <td id=\"T_ebc1d_row3_col4\" class=\"data row3 col4\" >nan</td>\n",
       "      <td id=\"T_ebc1d_row3_col5\" class=\"data row3 col5\" >nan</td>\n",
       "      <td id=\"T_ebc1d_row3_col6\" class=\"data row3 col6\" >nan</td>\n",
       "      <td id=\"T_ebc1d_row3_col7\" class=\"data row3 col7\" >nan</td>\n",
       "    </tr>\n",
       "    <tr>\n",
       "      <th id=\"T_ebc1d_level0_row4\" class=\"row_heading level0 row4\" >APP_BYTES</th>\n",
       "      <td id=\"T_ebc1d_row4_col0\" class=\"data row4 col0\" >-0.02</td>\n",
       "      <td id=\"T_ebc1d_row4_col1\" class=\"data row4 col1\" >0.05</td>\n",
       "      <td id=\"T_ebc1d_row4_col2\" class=\"data row4 col2\" >0.78</td>\n",
       "      <td id=\"T_ebc1d_row4_col3\" class=\"data row4 col3\" >0.02</td>\n",
       "      <td id=\"T_ebc1d_row4_col4\" class=\"data row4 col4\" >nan</td>\n",
       "      <td id=\"T_ebc1d_row4_col5\" class=\"data row4 col5\" >nan</td>\n",
       "      <td id=\"T_ebc1d_row4_col6\" class=\"data row4 col6\" >nan</td>\n",
       "      <td id=\"T_ebc1d_row4_col7\" class=\"data row4 col7\" >nan</td>\n",
       "    </tr>\n",
       "    <tr>\n",
       "      <th id=\"T_ebc1d_level0_row5\" class=\"row_heading level0 row5\" >SOURCE_APP_BYTES</th>\n",
       "      <td id=\"T_ebc1d_row5_col0\" class=\"data row5 col0\" >-0.01</td>\n",
       "      <td id=\"T_ebc1d_row5_col1\" class=\"data row5 col1\" >0.10</td>\n",
       "      <td id=\"T_ebc1d_row5_col2\" class=\"data row5 col2\" >0.31</td>\n",
       "      <td id=\"T_ebc1d_row5_col3\" class=\"data row5 col3\" >0.17</td>\n",
       "      <td id=\"T_ebc1d_row5_col4\" class=\"data row5 col4\" >0.07</td>\n",
       "      <td id=\"T_ebc1d_row5_col5\" class=\"data row5 col5\" >nan</td>\n",
       "      <td id=\"T_ebc1d_row5_col6\" class=\"data row5 col6\" >nan</td>\n",
       "      <td id=\"T_ebc1d_row5_col7\" class=\"data row5 col7\" >nan</td>\n",
       "    </tr>\n",
       "    <tr>\n",
       "      <th id=\"T_ebc1d_level0_row6\" class=\"row_heading level0 row6\" >DNS_QUERY_TIMES</th>\n",
       "      <td id=\"T_ebc1d_row6_col0\" class=\"data row6 col0\" >-0.05</td>\n",
       "      <td id=\"T_ebc1d_row6_col1\" class=\"data row6 col1\" >-0.05</td>\n",
       "      <td id=\"T_ebc1d_row6_col2\" class=\"data row6 col2\" >0.26</td>\n",
       "      <td id=\"T_ebc1d_row6_col3\" class=\"data row6 col3\" >0.55</td>\n",
       "      <td id=\"T_ebc1d_row6_col4\" class=\"data row6 col4\" >0.01</td>\n",
       "      <td id=\"T_ebc1d_row6_col5\" class=\"data row6 col5\" >0.22</td>\n",
       "      <td id=\"T_ebc1d_row6_col6\" class=\"data row6 col6\" >nan</td>\n",
       "      <td id=\"T_ebc1d_row6_col7\" class=\"data row6 col7\" >nan</td>\n",
       "    </tr>\n",
       "    <tr>\n",
       "      <th id=\"T_ebc1d_level0_row7\" class=\"row_heading level0 row7\" >Type</th>\n",
       "      <td id=\"T_ebc1d_row7_col0\" class=\"data row7 col0\" >0.28</td>\n",
       "      <td id=\"T_ebc1d_row7_col1\" class=\"data row7 col1\" >-0.09</td>\n",
       "      <td id=\"T_ebc1d_row7_col2\" class=\"data row7 col2\" >-0.08</td>\n",
       "      <td id=\"T_ebc1d_row7_col3\" class=\"data row7 col3\" >-0.08</td>\n",
       "      <td id=\"T_ebc1d_row7_col4\" class=\"data row7 col4\" >-0.01</td>\n",
       "      <td id=\"T_ebc1d_row7_col5\" class=\"data row7 col5\" >-0.04</td>\n",
       "      <td id=\"T_ebc1d_row7_col6\" class=\"data row7 col6\" >0.07</td>\n",
       "      <td id=\"T_ebc1d_row7_col7\" class=\"data row7 col7\" >nan</td>\n",
       "    </tr>\n",
       "  </tbody>\n",
       "</table>\n"
      ],
      "text/plain": [
       "<pandas.io.formats.style.Styler at 0x7f9eb4695cd0>"
      ]
     },
     "execution_count": 64,
     "metadata": {},
     "output_type": "execute_result"
    }
   ],
   "source": [
    "corr=websites.corr()\n",
    "mask = np.zeros_like(corr, dtype=bool)\n",
    "mask[np.triu_indices_from(mask)] = True\n",
    "corr[mask] = np.nan\n",
    "(corr\n",
    " .style\n",
    " .background_gradient(cmap='coolwarm', axis=None, vmin=-1, vmax=1)\n",
    " .highlight_null(null_color='#f1f1f1') \n",
    " .set_precision(2))"
   ]
  },
  {
   "cell_type": "markdown",
   "metadata": {},
   "source": [
    "# Challenge 3 - Handle Missing Values\n",
    "\n",
    "The next step would be handling missing values. **We start by examining the number of missing values in each column, which you will do in the next cell.**"
   ]
  },
  {
   "cell_type": "code",
   "execution_count": 71,
   "metadata": {},
   "outputs": [],
   "source": [
    "df= websites"
   ]
  },
  {
   "cell_type": "code",
   "execution_count": 106,
   "metadata": {},
   "outputs": [],
   "source": [
    "def limpieza(x):\n",
    "    if x== 'None':\n",
    "        return np.nan\n",
    "    else:\n",
    "        return x"
   ]
  },
  {
   "cell_type": "code",
   "execution_count": 113,
   "metadata": {},
   "outputs": [],
   "source": [
    "# Your code here\n",
    "c=list(df.columns)\n",
    "for i in c:\n",
    "    df[str(i)]=df[str(i)].apply(limpieza)\n",
    "    "
   ]
  },
  {
   "cell_type": "code",
   "execution_count": 118,
   "metadata": {},
   "outputs": [
    {
     "data": {
      "text/plain": [
       "URL                            0\n",
       "NUMBER_SPECIAL_CHARACTERS      0\n",
       "CHARSET                        7\n",
       "SERVER                       176\n",
       "WHOIS_COUNTRY                306\n",
       "WHOIS_STATEPRO               362\n",
       "WHOIS_REGDATE                127\n",
       "WHOIS_UPDATED_DATE           139\n",
       "DIST_REMOTE_TCP_PORT           0\n",
       "REMOTE_IPS                     0\n",
       "APP_BYTES                      0\n",
       "SOURCE_APP_BYTES               0\n",
       "DNS_QUERY_TIMES                1\n",
       "Type                           0\n",
       "dtype: int64"
      ]
     },
     "execution_count": 118,
     "metadata": {},
     "output_type": "execute_result"
    }
   ],
   "source": [
    "#df= df.drop(['CONTENT_LENGTH'], axis=1)\n",
    "df.isnull().sum()"
   ]
  },
  {
   "cell_type": "code",
   "execution_count": 168,
   "metadata": {},
   "outputs": [],
   "source": [
    "def limpi(x):\n",
    "    if x ==\"[u'GB'; u'UK']\":\n",
    "        return 'UK'\n",
    "    if x== 'GB':\n",
    "        return 'UK'\n",
    "    if x== 'United Kingdom':\n",
    "        return 'UK'\n",
    "    if x== 'us':\n",
    "        return 'US'\n",
    "    if x== 'ru':\n",
    "        return 'RU'\n",
    "    if x== 'se':\n",
    "        return 'SE'\n",
    "    if x== 'Cyprus':\n",
    "        return 'CY'\n",
    "    else:\n",
    "        return x"
   ]
  },
  {
   "cell_type": "code",
   "execution_count": 169,
   "metadata": {},
   "outputs": [
    {
     "name": "stderr",
     "output_type": "stream",
     "text": [
      "<ipython-input-169-f825230be066>:1: SettingWithCopyWarning: \n",
      "A value is trying to be set on a copy of a slice from a DataFrame.\n",
      "Try using .loc[row_indexer,col_indexer] = value instead\n",
      "\n",
      "See the caveats in the documentation: https://pandas.pydata.org/pandas-docs/stable/user_guide/indexing.html#returning-a-view-versus-a-copy\n",
      "  df['WHOIS_COUNTRY']= df['WHOIS_COUNTRY'].apply(limpi)\n"
     ]
    }
   ],
   "source": [
    "df['WHOIS_COUNTRY']= df['WHOIS_COUNTRY'].apply(limpi)"
   ]
  },
  {
   "cell_type": "code",
   "execution_count": 170,
   "metadata": {},
   "outputs": [
    {
     "data": {
      "text/plain": [
       "array([nan, 'US', 'SC', 'UK', 'RU', 'AU', 'CA', 'PA', 'SE', 'IN', 'LU',\n",
       "       'FR', 'NL', 'UG', 'JP', 'CN', 'SI', 'IL', 'KY', 'AT', 'CZ', 'PH',\n",
       "       'BE', 'NO', 'TR', 'LV', 'DE', 'ES', 'BR', 'KR', 'HK', 'UA', 'CH',\n",
       "       'BS', 'PK', 'IT', 'CY', 'BY', 'AE', 'IE', 'UY', 'KG'], dtype=object)"
      ]
     },
     "execution_count": 170,
     "metadata": {},
     "output_type": "execute_result"
    }
   ],
   "source": [
    "df['WHOIS_COUNTRY'].unique()"
   ]
  },
  {
   "cell_type": "code",
   "execution_count": 205,
   "metadata": {},
   "outputs": [],
   "source": [
    "def serv(x):\n",
    "    try:\n",
    "        if x[0]=='A' and x[1]=='p' and x[2]=='a':\n",
    "            return 'Apache'\n",
    "        if x[0]=='M' and x[1]=='i' and x[2]=='c':\n",
    "            return 'Microsoft'\n",
    "        if x[0]=='m' and x[1]=='w':\n",
    "            return 'mw.codfw.wmnet'\n",
    "        if x[0]=='n' and x[1]=='g' and x[2]=='i':\n",
    "            return 'nginx'\n",
    "        if x[0]=='N' and x[1]=='g' and x[2]=='i':\n",
    "            return 'nginx'\n",
    "        else: \n",
    "            return x\n",
    "    except:\n",
    "        TypeError\n",
    "    "
   ]
  },
  {
   "cell_type": "code",
   "execution_count": 206,
   "metadata": {},
   "outputs": [],
   "source": [
    "df['SERVER']= df['SERVER'].apply(serv)\n"
   ]
  },
  {
   "cell_type": "code",
   "execution_count": 192,
   "metadata": {},
   "outputs": [],
   "source": [
    "df['WHOIS_COUNTRY']=df['WHOIS_COUNTRY'].fillna('None')"
   ]
  },
  {
   "cell_type": "code",
   "execution_count": 193,
   "metadata": {},
   "outputs": [],
   "source": [
    "top_10 = ['US', 'CA', 'ES', 'UK', 'AU', 'PA', 'JP', 'CN', 'IN', 'FR']\n",
    "\n",
    "for i in df['WHOIS_COUNTRY']:\n",
    "    if i not in top_10:\n",
    "        df['WHOIS_COUNTRY'] = df.WHOIS_COUNTRY.str.replace(i, \"OTHER\")"
   ]
  },
  {
   "cell_type": "code",
   "execution_count": 195,
   "metadata": {},
   "outputs": [
    {
     "data": {
      "text/plain": [
       "US       966\n",
       "OTHER    373\n",
       "CA        76\n",
       "ES        63\n",
       "AU        34\n",
       "UK        33\n",
       "PA        21\n",
       "JP        11\n",
       "IN        10\n",
       "CN        10\n",
       "FR         8\n",
       "Name: WHOIS_COUNTRY, dtype: int64"
      ]
     },
     "execution_count": 195,
     "metadata": {},
     "output_type": "execute_result"
    }
   ],
   "source": [
    "df.WHOIS_COUNTRY.value_counts()"
   ]
  },
  {
   "cell_type": "code",
   "execution_count": 196,
   "metadata": {},
   "outputs": [
    {
     "data": {
      "text/plain": [
       "URL                            0\n",
       "NUMBER_SPECIAL_CHARACTERS      0\n",
       "CHARSET                        6\n",
       "SERVER                         0\n",
       "WHOIS_COUNTRY                  0\n",
       "WHOIS_STATEPRO               338\n",
       "WHOIS_REGDATE                122\n",
       "WHOIS_UPDATED_DATE           134\n",
       "DIST_REMOTE_TCP_PORT           0\n",
       "REMOTE_IPS                     0\n",
       "APP_BYTES                      0\n",
       "SOURCE_APP_BYTES               0\n",
       "DNS_QUERY_TIMES                1\n",
       "Type                           0\n",
       "dtype: int64"
      ]
     },
     "execution_count": 196,
     "metadata": {},
     "output_type": "execute_result"
    }
   ],
   "source": [
    "df.isnull().sum()"
   ]
  },
  {
   "cell_type": "markdown",
   "metadata": {},
   "source": [
    "# Challenge 4 - Handle `WHOIS_*` Categorical Data"
   ]
  },
  {
   "cell_type": "markdown",
   "metadata": {},
   "source": [
    "Now since `WHOIS_COUNTRY` has been re-labelled, we don't need `WHOIS_STATEPRO` any more because the values of the states or provinces may not be relevant any more. We'll drop this column.\n",
    "\n",
    "In addition, we will also drop `WHOIS_REGDATE` and `WHOIS_UPDATED_DATE`. These are the registration and update dates of the website domains. Not of our concerns.\n",
    "\n",
    "#### In the next cell, drop `['WHOIS_STATEPRO', 'WHOIS_REGDATE', 'WHOIS_UPDATED_DATE']`."
   ]
  },
  {
   "cell_type": "code",
   "execution_count": 197,
   "metadata": {},
   "outputs": [],
   "source": [
    "# Your code here\n",
    "df= df.drop(['WHOIS_STATEPRO', 'WHOIS_REGDATE', 'WHOIS_UPDATED_DATE'], axis=1)"
   ]
  },
  {
   "cell_type": "code",
   "execution_count": 198,
   "metadata": {},
   "outputs": [
    {
     "data": {
      "text/plain": [
       "URL                          0\n",
       "NUMBER_SPECIAL_CHARACTERS    0\n",
       "CHARSET                      6\n",
       "SERVER                       0\n",
       "WHOIS_COUNTRY                0\n",
       "DIST_REMOTE_TCP_PORT         0\n",
       "REMOTE_IPS                   0\n",
       "APP_BYTES                    0\n",
       "SOURCE_APP_BYTES             0\n",
       "DNS_QUERY_TIMES              1\n",
       "Type                         0\n",
       "dtype: int64"
      ]
     },
     "execution_count": 198,
     "metadata": {},
     "output_type": "execute_result"
    }
   ],
   "source": [
    "df.isnull().sum()"
   ]
  },
  {
   "cell_type": "markdown",
   "metadata": {},
   "source": [
    "# Challenge 5 - Handle Remaining Categorical Data & Convert to Ordinal\n",
    "\n",
    "Now print the `dtypes` of the data again. Besides `WHOIS_COUNTRY` which we already fixed, there should be 3 categorical columns left: `URL`, `CHARSET`, and `SERVER`."
   ]
  },
  {
   "cell_type": "code",
   "execution_count": 199,
   "metadata": {},
   "outputs": [
    {
     "data": {
      "text/plain": [
       "array(['M0_109', 'B0_2314', 'B0_911', ..., 'B0_162', 'B0_1152', 'B0_676'],\n",
       "      dtype=object)"
      ]
     },
     "execution_count": 199,
     "metadata": {},
     "output_type": "execute_result"
    }
   ],
   "source": [
    "# Your code"
   ]
  },
  {
   "cell_type": "markdown",
   "metadata": {},
   "source": [
    "#### `URL` is easy. We'll simply drop it because it has too many unique values that there's no way for us to consolidate."
   ]
  },
  {
   "cell_type": "code",
   "execution_count": 200,
   "metadata": {},
   "outputs": [],
   "source": [
    "# Your code here\n",
    "df= df.drop(['URL'], axis=1)"
   ]
  },
  {
   "cell_type": "markdown",
   "metadata": {},
   "source": [
    "La verdad es que con URL me parece bastante fácil agrupar en M0 y B0, pero si lo camobio a categóricas me doy cuenta de que tiene una colineaalidad perfecta con type, dado que las iniciales del URL indican si la web es benigna o maligna asi que es mejoor borrarla."
   ]
  },
  {
   "cell_type": "markdown",
   "metadata": {},
   "source": [
    "#### Print the unique value counts of `CHARSET`. You see there are only a few unique values. So we can keep it as it is."
   ]
  },
  {
   "cell_type": "code",
   "execution_count": 216,
   "metadata": {},
   "outputs": [
    {
     "data": {
      "text/plain": [
       "1599"
      ]
     },
     "execution_count": 216,
     "metadata": {},
     "output_type": "execute_result"
    }
   ],
   "source": [
    "df = df[df['CHARSET'].notna()]\n",
    "len(df.CHARSET)"
   ]
  },
  {
   "cell_type": "markdown",
   "metadata": {},
   "source": [
    "`SERVER` is a little more complicated. Print its unique values and think about how you can consolidate those values.\n",
    "\n",
    "#### Before you think of your own solution, don't read the instructions that come next."
   ]
  },
  {
   "cell_type": "markdown",
   "metadata": {},
   "source": [
    "Ya lo he agrupado pero lo que voy a hacer es que los que no estén en mis agrupaciones, lo voy a llamar other.\n"
   ]
  },
  {
   "cell_type": "markdown",
   "metadata": {},
   "source": [
    "![Think Hard](../think-hard.jpg)"
   ]
  },
  {
   "cell_type": "code",
   "execution_count": 207,
   "metadata": {},
   "outputs": [
    {
     "data": {
      "text/plain": [
       "array(['nginx', 'Apache', 'Microsoft', 'openresty/1.11.2.1',\n",
       "       'Oracle-iPlanet-Web-Server/7.0', 'cloudflare-nginx', 'openresty',\n",
       "       'Heptu web server', 'Pepyaka/1.11.3', 'LiteSpeed', 'GSE',\n",
       "       'Tengine', 'Sun-ONE-Web-Server/6.1', 'AmazonS3', 'ATS',\n",
       "       'CherryPy/3.6.0', 'Server', 'KHL', 'mw.codfw.wmnet',\n",
       "       'Jetty(9.0.z-SNAPSHOT)', 'HTTPDaemon', 'MediaFire', 'DOSarrest',\n",
       "       'Sucuri/Cloudproxy', 'DPS/1.1.8', 'ATS/5.3.0', 'SSWS',\n",
       "       'YouTubeFrontEnd', 'Squeegit/1.2.5 (3_sir)',\n",
       "       'Virtuoso/07.20.3217 (Linux) i686-generic-linux-glibc212-64  VDB',\n",
       "       'Yippee-Ki-Yay', 'Proxy Pandeiro UOL', 'openresty/1.11.2.2',\n",
       "       'Varnish', 'Resin/3.1.8', 'barista/5.1.3', 'ECD (fll/0790)',\n",
       "       'Pagely Gateway/1.5.1', 'fbs', 'gunicorn/19.7.1', 'lighttpd',\n",
       "       'AkamaiGHost', 'PWS/8.2.0.7', 'nxfps', 'Play',\n",
       "       'Scratch Web Server', 'marrakesh 1.12.2', 'squid/3.3.8',\n",
       "       'Zope/(2.13.16; python 2.6.8; linux2) ZServer/1.1', '.V01 Apache',\n",
       "       'Aeria Games & Entertainment', 'Cowboy', 'DMS/1.0.42',\n",
       "       'Application-Server', 'lighttpd/1.4.28', '294',\n",
       "       'www.lexisnexis.com  9999', 'Pizza/pepperoni',\n",
       "       'XXXXXXXXXXXXXXXXXXXXXX', 'MI', 'Roxen/5.4.98-r2', 'ebay server',\n",
       "       'Boston.com Frontend', 'My Arse', 'IdeaWebServer/v0.80'],\n",
       "      dtype=object)"
      ]
     },
     "execution_count": 207,
     "metadata": {},
     "output_type": "execute_result"
    }
   ],
   "source": [
    "df.SERVER.unique()"
   ]
  },
  {
   "cell_type": "code",
   "execution_count": 212,
   "metadata": {},
   "outputs": [],
   "source": [
    "df['SERVER']= df['SERVER'].apply(serv)"
   ]
  },
  {
   "cell_type": "code",
   "execution_count": 219,
   "metadata": {},
   "outputs": [
    {
     "name": "stderr",
     "output_type": "stream",
     "text": [
      "<ipython-input-219-e1863bb67f3b>:5: FutureWarning: The default value of regex will change from True to False in a future version.\n",
      "  df['SERVER'] = df.SERVER.str.replace(i, \"Other\")\n"
     ]
    }
   ],
   "source": [
    "top = ['nginx', 'Apache', 'Microsoft', 'mw.codfw.wmnet']\n",
    "\n",
    "for i in df['SERVER']:\n",
    "    if i not in top:\n",
    "        df['SERVER'] = df.SERVER.str.replace(i, \"Other\")\n"
   ]
  },
  {
   "cell_type": "code",
   "execution_count": 224,
   "metadata": {},
   "outputs": [],
   "source": [
    "def severiano(x):\n",
    "    if x=='Jetty(9.0.z-SNAPSHOT)':\n",
    "        return 'Other'\n",
    "    if x=='Squeegit/1.2.5 (3_sir)':\n",
    "        return 'Other'\n",
    "    if x== 'Virtuoso/07.20.3217 (Linux) i686-generic-linux-glibc212-64  VDB':\n",
    "        return 'Other'\n",
    "    if x== 'ECD (fll/0790)':\n",
    "        return 'Other'\n",
    "    if x== 'Zope/(2.13.16; python 2.6.8; linux2) ZOther/1.1':\n",
    "        return 'Other'\n",
    "    else:\n",
    "        return x\n",
    "    "
   ]
  },
  {
   "cell_type": "code",
   "execution_count": 227,
   "metadata": {},
   "outputs": [],
   "source": [
    "df.SERVER= df.SERVER.apply(severiano)"
   ]
  },
  {
   "cell_type": "code",
   "execution_count": 228,
   "metadata": {},
   "outputs": [
    {
     "data": {
      "text/plain": [
       "Apache            640\n",
       "Other             360\n",
       "nginx             342\n",
       "Microsoft         196\n",
       "mw.codfw.wmnet     61\n",
       "Name: SERVER, dtype: int64"
      ]
     },
     "execution_count": 228,
     "metadata": {},
     "output_type": "execute_result"
    }
   ],
   "source": [
    "df.SERVER.value_counts()"
   ]
  },
  {
   "cell_type": "code",
   "execution_count": 231,
   "metadata": {},
   "outputs": [],
   "source": [
    "df = df[df['DNS_QUERY_TIMES'].notna()]"
   ]
  },
  {
   "cell_type": "code",
   "execution_count": 232,
   "metadata": {},
   "outputs": [
    {
     "data": {
      "text/plain": [
       "NUMBER_SPECIAL_CHARACTERS    0\n",
       "CHARSET                      0\n",
       "SERVER                       0\n",
       "WHOIS_COUNTRY                0\n",
       "DIST_REMOTE_TCP_PORT         0\n",
       "REMOTE_IPS                   0\n",
       "APP_BYTES                    0\n",
       "SOURCE_APP_BYTES             0\n",
       "DNS_QUERY_TIMES              0\n",
       "Type                         0\n",
       "dtype: int64"
      ]
     },
     "execution_count": 232,
     "metadata": {},
     "output_type": "execute_result"
    }
   ],
   "source": [
    "df.isnull().sum()"
   ]
  },
  {
   "cell_type": "markdown",
   "metadata": {},
   "source": [
    "Although there are so many unique values in the `SERVER` column, there are actually only 3 main server types: `Microsoft`, `Apache`, and `nginx`. Just check if each `SERVER` value contains any of those server types and re-label them. For `SERVER` values that don't contain any of those substrings, label with `Other`.\n",
    "\n",
    "At the end, your `SERVER` column should only contain 4 unique values: `Microsoft`, `Apache`, `nginx`, and `Other`."
   ]
  },
  {
   "cell_type": "code",
   "execution_count": null,
   "metadata": {},
   "outputs": [],
   "source": [
    "# Your code here\n"
   ]
  },
  {
   "cell_type": "code",
   "execution_count": 233,
   "metadata": {
    "scrolled": false
   },
   "outputs": [
    {
     "data": {
      "text/plain": [
       "Apache            639\n",
       "Other             360\n",
       "nginx             342\n",
       "Microsoft         196\n",
       "mw.codfw.wmnet     61\n",
       "Name: SERVER, dtype: int64"
      ]
     },
     "execution_count": 233,
     "metadata": {},
     "output_type": "execute_result"
    }
   ],
   "source": [
    "# Count `SERVER` value counts here\n",
    "df.SERVER.value_counts()"
   ]
  },
  {
   "cell_type": "markdown",
   "metadata": {},
   "source": [
    "OK, all our categorical data are fixed now. **Let's convert them to ordinal data using Pandas' `get_dummies` function ([documentation](https://pandas.pydata.org/pandas-docs/stable/generated/pandas.get_dummies.html)).** Make sure you drop the categorical columns by passing `drop_first=True` to `get_dummies` as we don't need them any more. **Also, assign the data with dummy values to a new variable `website_dummy`.**"
   ]
  },
  {
   "cell_type": "code",
   "execution_count": 240,
   "metadata": {},
   "outputs": [],
   "source": [
    "# Your code here\n",
    "website_dummy = pd.get_dummies(df, drop_first=True)"
   ]
  },
  {
   "cell_type": "markdown",
   "metadata": {},
   "source": [
    "Now, inspect `website_dummy` to make sure the data and types are intended - there shouldn't be any categorical columns at this point."
   ]
  },
  {
   "cell_type": "code",
   "execution_count": 241,
   "metadata": {},
   "outputs": [
    {
     "data": {
      "text/plain": [
       "NUMBER_SPECIAL_CHARACTERS    0\n",
       "DIST_REMOTE_TCP_PORT         0\n",
       "REMOTE_IPS                   0\n",
       "APP_BYTES                    0\n",
       "SOURCE_APP_BYTES             0\n",
       "DNS_QUERY_TIMES              0\n",
       "Type                         0\n",
       "CHARSET_ISO-8859-1           0\n",
       "CHARSET_UTF-8                0\n",
       "CHARSET_iso-8859-1           0\n",
       "CHARSET_us-ascii             0\n",
       "CHARSET_utf-8                0\n",
       "CHARSET_windows-1251         0\n",
       "CHARSET_windows-1252         0\n",
       "SERVER_Microsoft             0\n",
       "SERVER_Other                 0\n",
       "SERVER_mw.codfw.wmnet        0\n",
       "SERVER_nginx                 0\n",
       "WHOIS_COUNTRY_CA             0\n",
       "WHOIS_COUNTRY_CN             0\n",
       "WHOIS_COUNTRY_ES             0\n",
       "WHOIS_COUNTRY_FR             0\n",
       "WHOIS_COUNTRY_IN             0\n",
       "WHOIS_COUNTRY_JP             0\n",
       "WHOIS_COUNTRY_OTHER          0\n",
       "WHOIS_COUNTRY_PA             0\n",
       "WHOIS_COUNTRY_UK             0\n",
       "WHOIS_COUNTRY_US             0\n",
       "dtype: int64"
      ]
     },
     "execution_count": 241,
     "metadata": {},
     "output_type": "execute_result"
    }
   ],
   "source": [
    "website_dummy.isnull().sum()"
   ]
  },
  {
   "cell_type": "markdown",
   "metadata": {},
   "source": [
    "# Challenge 6 - Modeling, Prediction, and Evaluation\n",
    "\n",
    "We'll start off this section by splitting the data to train and test. **Name your 4 variables `X_train`, `X_test`, `y_train`, and `y_test`. Select 80% of the data for training and 20% for testing.**"
   ]
  },
  {
   "cell_type": "code",
   "execution_count": 243,
   "metadata": {},
   "outputs": [],
   "source": [
    "from sklearn.model_selection import train_test_split\n",
    "X = website_dummy.drop('Type', axis=1)\n",
    "y = website_dummy['Type']"
   ]
  },
  {
   "cell_type": "code",
   "execution_count": 293,
   "metadata": {},
   "outputs": [],
   "source": [
    "X_train, X_test, y_train, y_test = train_test_split(X, y, test_size=0.2)"
   ]
  },
  {
   "cell_type": "markdown",
   "metadata": {},
   "source": [
    "#### In this lab, we will try two different models and compare our results.\n",
    "\n",
    "The first model we will use in this lab is logistic regression. We have previously learned about logistic regression as a classification algorithm. In the cell below, load `LogisticRegression` from scikit-learn and initialize the model."
   ]
  },
  {
   "cell_type": "code",
   "execution_count": 294,
   "metadata": {},
   "outputs": [],
   "source": [
    "# Your code here:\n",
    "from sklearn.metrics import accuracy_score\n",
    "from sklearn.metrics import confusion_matrix\n",
    "from sklearn.linear_model import LogisticRegression\n",
    "logreg= LogisticRegression()"
   ]
  },
  {
   "cell_type": "markdown",
   "metadata": {},
   "source": [
    "Next, fit the model to our training data. We have already separated our data into 4 parts. Use those in your model."
   ]
  },
  {
   "cell_type": "code",
   "execution_count": 295,
   "metadata": {},
   "outputs": [
    {
     "data": {
      "text/plain": [
       "LogisticRegression()"
      ]
     },
     "execution_count": 295,
     "metadata": {},
     "output_type": "execute_result"
    }
   ],
   "source": [
    "logreg.fit(X,y)"
   ]
  },
  {
   "cell_type": "markdown",
   "metadata": {},
   "source": [
    "finally, import `confusion_matrix` and `accuracy_score` from `sklearn.metrics` and fit our testing data. Assign the fitted data to `y_pred` and print the confusion matrix as well as the accuracy score"
   ]
  },
  {
   "cell_type": "code",
   "execution_count": 296,
   "metadata": {},
   "outputs": [],
   "source": [
    "y_test_pred=logreg.predict(X_test)"
   ]
  },
  {
   "cell_type": "code",
   "execution_count": 297,
   "metadata": {},
   "outputs": [
    {
     "data": {
      "text/plain": [
       "0.896875"
      ]
     },
     "execution_count": 297,
     "metadata": {},
     "output_type": "execute_result"
    }
   ],
   "source": [
    "accuracy_score(y_test, y_test_pred)"
   ]
  },
  {
   "cell_type": "code",
   "execution_count": 298,
   "metadata": {},
   "outputs": [
    {
     "data": {
      "text/plain": [
       "array([[287,   0],\n",
       "       [ 33,   0]])"
      ]
     },
     "execution_count": 298,
     "metadata": {},
     "output_type": "execute_result"
    }
   ],
   "source": [
    "confusion_matrix(y_test, y_test_pred)"
   ]
  },
  {
   "cell_type": "code",
   "execution_count": 299,
   "metadata": {},
   "outputs": [
    {
     "data": {
      "text/plain": [
       "0    1383\n",
       "1     215\n",
       "Name: Type, dtype: int64"
      ]
     },
     "execution_count": 299,
     "metadata": {},
     "output_type": "execute_result"
    }
   ],
   "source": [
    "y.value_counts()"
   ]
  },
  {
   "cell_type": "markdown",
   "metadata": {},
   "source": [
    "What are your thoughts on the performance of the model? Write your conclusions below."
   ]
  },
  {
   "cell_type": "code",
   "execution_count": null,
   "metadata": {},
   "outputs": [],
   "source": []
  },
  {
   "cell_type": "markdown",
   "metadata": {},
   "source": [
    "#### Our second algorithm is is DecisionTreeClassifier\n",
    "\n",
    "Though is it not required, we will fit a model using the training data and then test the performance of the model using the testing data. Start by loading `DecisionTreeClassifier` from scikit-learn and then initializing and fitting the model. We'll start off with a model where max_depth=3"
   ]
  },
  {
   "cell_type": "code",
   "execution_count": 5,
   "metadata": {},
   "outputs": [],
   "source": [
    "# Your code here:\n",
    "\n"
   ]
  },
  {
   "cell_type": "markdown",
   "metadata": {},
   "source": [
    "To test your model, compute the predicted probabilities, decide 0 or 1 using a threshold of 0.5 and print the confusion matrix as well as the accuracy score (on the test set!)"
   ]
  },
  {
   "cell_type": "code",
   "execution_count": 6,
   "metadata": {},
   "outputs": [],
   "source": [
    "# Your code here:\n",
    "\n"
   ]
  },
  {
   "cell_type": "markdown",
   "metadata": {},
   "source": [
    "#### We'll create another DecisionTreeClassifier model with max_depth=5. \n",
    "Initialize and fit the model below and print the confusion matrix and the accuracy score."
   ]
  },
  {
   "cell_type": "code",
   "execution_count": 7,
   "metadata": {},
   "outputs": [],
   "source": [
    "# Your code here:\n",
    "\n"
   ]
  },
  {
   "cell_type": "markdown",
   "metadata": {},
   "source": [
    "Did you see an improvement in the confusion matrix when increasing max_depth to 5? Did you see an improvement in the accuracy score? Write your conclusions below."
   ]
  },
  {
   "cell_type": "code",
   "execution_count": 8,
   "metadata": {},
   "outputs": [],
   "source": [
    "# Your conclusions here:\n",
    "\n"
   ]
  },
  {
   "cell_type": "markdown",
   "metadata": {},
   "source": [
    "# Bonus Challenge - Feature Scaling\n",
    "\n",
    "Problem-solving in machine learning is iterative. You can improve your model prediction with various techniques (there is a sweetspot for the time you spend and the improvement you receive though). Now you've completed only one iteration of ML analysis. There are more iterations you can conduct to make improvements. In order to be able to do that, you will need deeper knowledge in statistics and master more data analysis techniques. In this bootcamp, we don't have time to achieve that advanced goal. But you will make constant efforts after the bootcamp to eventually get there.\n",
    "\n",
    "However, now we do want you to learn one of the advanced techniques which is called *feature scaling*. The idea of feature scaling is to standardize/normalize the range of independent variables or features of the data. This can make the outliers more apparent so that you can remove them. This step needs to happen during Challenge 6 after you split the training and test data because you don't want to split the data again which makes it impossible to compare your results with and without feature scaling. For general concepts about feature scaling, click [here](https://en.wikipedia.org/wiki/Feature_scaling). To read deeper, click [here](https://medium.com/greyatom/why-how-and-when-to-scale-your-features-4b30ab09db5e).\n",
    "\n",
    "In the next cell, attempt to improve your model prediction accuracy by means of feature scaling. A library you can utilize is `sklearn.preprocessing.RobustScaler` ([documentation](https://scikit-learn.org/stable/modules/generated/sklearn.preprocessing.RobustScaler.html)). You'll use the `RobustScaler` to fit and transform your `X_train`, then transform `X_test`. You will use logistic regression to fit and predict your transformed data and obtain the accuracy score in the same way. Compare the accuracy score with your normalized data with the previous accuracy data. Is there an improvement?"
   ]
  },
  {
   "cell_type": "code",
   "execution_count": null,
   "metadata": {},
   "outputs": [],
   "source": [
    "# Your code here"
   ]
  }
 ],
 "metadata": {
  "kernelspec": {
   "display_name": "Ironhack",
   "language": "python",
   "name": "ironhack"
  },
  "language_info": {
   "codemirror_mode": {
    "name": "ipython",
    "version": 3
   },
   "file_extension": ".py",
   "mimetype": "text/x-python",
   "name": "python",
   "nbconvert_exporter": "python",
   "pygments_lexer": "ipython3",
   "version": "3.8.12"
  },
  "varInspector": {
   "cols": {
    "lenName": 16,
    "lenType": 16,
    "lenVar": 40
   },
   "kernels_config": {
    "python": {
     "delete_cmd_postfix": "",
     "delete_cmd_prefix": "del ",
     "library": "var_list.py",
     "varRefreshCmd": "print(var_dic_list())"
    },
    "r": {
     "delete_cmd_postfix": ") ",
     "delete_cmd_prefix": "rm(",
     "library": "var_list.r",
     "varRefreshCmd": "cat(var_dic_list()) "
    }
   },
   "types_to_exclude": [
    "module",
    "function",
    "builtin_function_or_method",
    "instance",
    "_Feature"
   ],
   "window_display": false
  }
 },
 "nbformat": 4,
 "nbformat_minor": 2
}
